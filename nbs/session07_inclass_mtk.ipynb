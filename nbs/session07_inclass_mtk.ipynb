{
  "cells": [
    {
      "cell_type": "markdown",
      "metadata": {
        "id": "hX4n9TsbGw-f"
      },
      "source": [
        "##### Copyright 2018 The TensorFlow Authors."
      ]
    },
    {
      "cell_type": "code",
      "execution_count": null,
      "metadata": {
        "cellView": "form",
        "id": "0nbI5DtDGw-i"
      },
      "outputs": [],
      "source": [
        "#@title Licensed under the Apache License, Version 2.0 (the \"License\");\n",
        "# you may not use this file except in compliance with the License.\n",
        "# You may obtain a copy of the License at\n",
        "#\n",
        "# https://www.apache.org/licenses/LICENSE-2.0\n",
        "#\n",
        "# Unless required by applicable law or agreed to in writing, software\n",
        "# distributed under the License is distributed on an \"AS IS\" BASIS,\n",
        "# WITHOUT WARRANTIES OR CONDITIONS OF ANY KIND, either express or implied.\n",
        "# See the License for the specific language governing permissions and\n",
        "# limitations under the License."
      ]
    },
    {
      "cell_type": "markdown",
      "metadata": {
        "id": "9TnJztDZGw-n"
      },
      "source": [
        "# Text classification with an RNN"
      ]
    },
    {
      "cell_type": "markdown",
      "metadata": {
        "id": "AfN3bMR5Gw-o"
      },
      "source": [
        "<table class=\"tfo-notebook-buttons\" align=\"left\">\n",
        "  <td>\n",
        "    <a target=\"_blank\" href=\"https://www.tensorflow.org/text/tutorials/text_classification_rnn\"><img src=\"https://www.tensorflow.org/images/tf_logo_32px.png\" />View on TensorFlow.org</a>\n",
        "  </td>\n",
        "  <td>\n",
        "    <a target=\"_blank\" href=\"https://colab.research.google.com/github/tensorflow/text/blob/master/docs/tutorials/text_classification_rnn.ipynb\"><img src=\"https://www.tensorflow.org/images/colab_logo_32px.png\" />Run in Google Colab</a>\n",
        "  </td>\n",
        "  <td>\n",
        "    <a target=\"_blank\" href=\"https://github.com/tensorflow/text/blob/master/docs/tutorials/text_classification_rnn.ipynb\"><img src=\"https://www.tensorflow.org/images/GitHub-Mark-32px.png\" />View source on GitHub</a>\n",
        "  </td>\n",
        "  <td>\n",
        "    <a href=\"https://storage.googleapis.com/tensorflow_docs/text/docs/tutorials/text_classification_rnn.ipynb\"><img src=\"https://www.tensorflow.org/images/download_logo_32px.png\" />Download notebook</a>\n",
        "  </td>\n",
        "</table>"
      ]
    },
    {
      "cell_type": "markdown",
      "metadata": {
        "id": "lUWearf0Gw-p"
      },
      "source": [
        "This text classification tutorial trains a [recurrent neural network](https://developers.google.com/machine-learning/glossary/#recurrent_neural_network) on the [IMDB large movie review dataset](http://ai.stanford.edu/~amaas/data/sentiment/) for sentiment analysis."
      ]
    },
    {
      "cell_type": "markdown",
      "metadata": {
        "id": "_2VQo4bajwUU"
      },
      "source": [
        "## Setup"
      ]
    },
    {
      "cell_type": "code",
      "execution_count": 2,
      "metadata": {
        "id": "z682XYsrjkY9"
      },
      "outputs": [
        {
          "name": "stderr",
          "output_type": "stream",
          "text": [
            "2023-03-15 09:51:01.899256: I tensorflow/core/platform/cpu_feature_guard.cc:182] This TensorFlow binary is optimized to use available CPU instructions in performance-critical operations.\n",
            "To enable the following instructions: AVX2 FMA, in other operations, rebuild TensorFlow with the appropriate compiler flags.\n"
          ]
        }
      ],
      "source": [
        "import numpy as np\n",
        "\n",
        "import tensorflow_datasets as tfds\n",
        "import tensorflow as tf\n",
        "\n",
        "tfds.disable_progress_bar()"
      ]
    },
    {
      "cell_type": "markdown",
      "metadata": {
        "id": "1rXHa-w9JZhb"
      },
      "source": [
        "Import `matplotlib` and create a helper function to plot graphs:"
      ]
    },
    {
      "cell_type": "code",
      "execution_count": 3,
      "metadata": {
        "id": "Mp1Z7P9pYRSK"
      },
      "outputs": [],
      "source": [
        "import matplotlib.pyplot as plt\n",
        "\n",
        "# creating function\n",
        "def plot_graphs(history, metric): # plotting the metric of the history of the model (we create the history of the model later)\n",
        "  plt.plot(history.history[metric])\n",
        "  plt.plot(history.history['val_'+metric], '')\n",
        "  plt.xlabel(\"Epochs\") # defining x label\n",
        "  plt.ylabel(metric) # defining y label\n",
        "  plt.legend([metric, 'val_'+metric]) # defining title"
      ]
    },
    {
      "cell_type": "markdown",
      "metadata": {
        "id": "pRmMubr0jrE2"
      },
      "source": [
        "## Setup input pipeline\n",
        "\n",
        "\n",
        "The IMDB large movie review dataset is a *binary classification* dataset—all the reviews have either a *positive* or *negative* sentiment.\n",
        "\n",
        "Download the dataset using [TFDS](https://www.tensorflow.org/datasets). See the [loading text tutorial](https://www.tensorflow.org/tutorials/load_data/text) for details on how to load this sort of data manually.\n"
      ]
    },
    {
      "cell_type": "code",
      "execution_count": 4,
      "metadata": {
        "id": "SHRwRoP2nVHX"
      },
      "outputs": [
        {
          "name": "stdout",
          "output_type": "stream",
          "text": [
            "\u001b[1mDownloading and preparing dataset Unknown size (download: Unknown size, generated: Unknown size, total: Unknown size) to /Users/miakuntz/tensorflow_datasets/imdb_reviews/plain_text/1.0.0...\u001b[0m\n"
          ]
        },
        {
          "name": "stderr",
          "output_type": "stream",
          "text": [
            "2023-03-15 10:10:38.181968: W tensorflow/tsl/platform/cloud/google_auth_provider.cc:184] All attempts to get a Google authentication bearer token failed, returning an empty token. Retrieving token from files failed with \"NOT_FOUND: Could not locate the credentials file.\". Retrieving token from GCE failed with \"FAILED_PRECONDITION: Error executing an HTTP request: libcurl code 6 meaning 'Couldn't resolve host name', error details: Could not resolve host: metadata.google.internal\".\n"
          ]
        },
        {
          "name": "stdout",
          "output_type": "stream",
          "text": [
            "\u001b[1mDataset imdb_reviews downloaded and prepared to /Users/miakuntz/tensorflow_datasets/imdb_reviews/plain_text/1.0.0. Subsequent calls will reuse this data.\u001b[0m\n"
          ]
        },
        {
          "data": {
            "text/plain": [
              "(TensorSpec(shape=(), dtype=tf.string, name=None),\n",
              " TensorSpec(shape=(), dtype=tf.int64, name=None))"
            ]
          },
          "execution_count": 4,
          "metadata": {},
          "output_type": "execute_result"
        }
      ],
      "source": [
        "# loading dataset and creating training and test data\n",
        "dataset, info = tfds.load('imdb_reviews', with_info=True,\n",
        "                          as_supervised=True) # with the labels\n",
        "train_dataset, test_dataset = dataset['train'], dataset['test']\n",
        "\n",
        "train_dataset.element_spec # inspecting the data"
      ]
    },
    {
      "cell_type": "markdown",
      "metadata": {
        "id": "nWA4c2ir7g6p"
      },
      "source": [
        "Initially this returns a dataset of (text, label pairs):"
      ]
    },
    {
      "cell_type": "code",
      "execution_count": 16,
      "metadata": {
        "id": "vd4_BGKyurao"
      },
      "outputs": [
        {
          "name": "stderr",
          "output_type": "stream",
          "text": [
            "2023-03-15 10:24:41.663169: I tensorflow/core/common_runtime/executor.cc:1197] [/device:CPU:0] (DEBUG INFO) Executor start aborting (this does not indicate an error and you can ignore this message): INVALID_ARGUMENT: You must feed a value for placeholder tensor 'Placeholder/_4' with dtype int64 and shape [1]\n",
            "\t [[{{node Placeholder/_4}}]]\n",
            "2023-03-15 10:24:41.664275: I tensorflow/core/common_runtime/executor.cc:1197] [/device:CPU:0] (DEBUG INFO) Executor start aborting (this does not indicate an error and you can ignore this message): INVALID_ARGUMENT: You must feed a value for placeholder tensor 'Placeholder/_2' with dtype string and shape [1]\n",
            "\t [[{{node Placeholder/_2}}]]\n"
          ]
        },
        {
          "name": "stdout",
          "output_type": "stream",
          "text": [
            "text:  [b'Definitely one of funny man Eddie Murphy\\'s lesser films is this nonsense about a kidnapped mystical child, three hundred year old dragons and a \"Chosen One\".<br /><br />Murphy is the \"Chosen One\" in question, and as the opening song suggests, he is \"the best man in the world\". A finder of lost and missing children, he is approached by a mysterious Tibetan woman (Charlotte Lewis) who tells him he is \"The Chosen One\", and that it is his destiny to find and rescue \"The Golden Child\". For if the child were to die, compassion would die with him, as he is the bearer of compassion.<br /><br />If all this hocus pocus rubbish hasn\\'t ruined it for you now, it surely will once the movie begins. Suffice to say the plot is abominable and destroys the whole film. Meant to be another vehicle for Murphy\\'s egotistical brand of humour (the comedy isn\\'t so great mind you), the movie fails on many levels. Even Charles Dance as the evil Sardo Numspa can\\'t do much for proceedings. Very silly and disappointing.<br /><br />Sunday, December 12, 1993 - T.V.'\n",
            " b'Wow, what can I say about this film? It\\'s a lousy piece of crap. I\\'m surprised that it got rated as high as it did. What\\'s wrong with this film? Here\\'s a better question: What\\'s NOT wrong with this film.<br /><br />The story itself is just crap and clich\\xc3\\xa9. Here\\'s pretty much what it\\'s about...Some kinda nerdy kid with no friends gets picked on, gets killed, and comes back as a scarecrow for revenge. \"All\" of that is packed into 86 minutes of worthless film. If you haven\\'t seen this movie don\\'t waste your time watching it. Also, the second one isn\\'t much better, so don\\'t bother watching that either...I rated this movie a three because I liked the scarecrow\\'s outfit, not because there was anything good about the movie. I think you get the picture.'\n",
            " b\"Oh Geez... There are so many other films I want to see out there... I got stuck with my nephew for the weekend and this is what he wanted - Yeah...<br /><br />I used to watch this show when I was in college...it was mindless, kinda fun, and somewhat action-oriented. The show had a good heart tho...and the characters were cute; no one ever got killed or even hurt badly... it was like a cartoon come to life. Cut to 2005...What happened? This one doesn't work. As others have said, there simply isn't a cohesive story and the performances are weird...almost annoying - definitely not faithful to the original characters...the whole thing is a like a Mad TV skit and it lasts over 100 minutes! This was one of the few times I've been EMBARRASSED watching a film. What were they thinking? As best I can tell, must've been for the product marketing, toys, etc. All I can say is, let this one die a quick death. It makes the original Dukes of Hazzard seem like Masterpiece Theater...<br /><br />I think the only remake left to do from TV is Gilligan's Island... Good Luck!\"\n",
            " b'This movies chronicles the life and times of William Castle. He made a series of low budget horror films in the 1950s-1960s that he sold with gimmicks. In \"13 Ghosts\" you need viewers to see the ghosts (they were in color, the film was in b&w). \"The Tingler\" had theatre seats equipped with a buzzer that jolted the audience when a monster escapes into a movie theatre. \"Marabre\" issued a life insurance policy to all members in case they were frightened to death! The movies themselves were pretty bad but the gimmicks had people rushing to see them. In this doc there are interviews with directors inspired by Castle, actors in his movies and his daughter. It also gets into his home life and the kind of man he was (by all accounts he was a great guy). The documentary is affectionate, very funny and absolutely riveting. It\\'s very short (under 90 minutes) and there\\'s never a dull moment. A must see for Castle fans and horror movie fans. My one complaint--there were very few sequences shown from his pictures. That aside this is just great.'\n",
            " b\"Sudden Impact is a two pronged story. Harry is targeted by the mob who want to kill him and Harry is very glad to return the favour and show them how it's done. This little war puts Harry on suspension which he doesn't care about but he goes away on a little vacation. Now the second part of the story. Someone is killing some punks and Harry gets dragged into this situation where he meets Jennifer spencer a woman with a secret that the little tourist town wants to keep quiet. The police Chief is not a subtle man and he warns Harry to not get involved or cause any trouble. This is Harry Callahan Trouble follows him. The mob tracks him to this town and hell opens up as Harry goes to war. Meanwhile the vigilante strikes again and the gang having figured it out is ready for her. Jennifer Spencer is caught and Harry comes to her rescue during the film's climax. Sudden Impact is not the greatest Dirty Harry but at the time it gives us a Harry that is very much an anti hero ready to go to war just to pursue Justice. Again not the best not the worst but the one with the most remembered line. Go Ahead Make your day.\"\n",
            " b'Robert Altman shouldn\\'t make a movie like this, but the fact that he did- and that it turns out to be a reasonably good and tightly-wound thriller in that paperback-tradition of Grisham thrillers- shows a versatility that is commendable. In the Gingerbread Man he actually has to work with something that, unfortunately, he isn\\'t always very successful at, or at least it\\'s not the first thing on his checklist as director: plot. There\\'s one of those big, juicy almost pot-boiler plots where a sleazy lawyer gets caught up with a desperate low-class woman and then a nefarious figure whom the woman is related with enters their lives in the most staggering ways, twists and plot ensues, yada yada. And it\\'s surprising that Altman would really want to take on one of these \"I saw that coming from back there!\" endings, or just a such a semi-conventional thriller.<br /><br />But it\\'s a surprise that pays off because, oddly enough, Altman is able to catch some of that very fine behavior, or rather is able to unintentionally coax it out of a very well-cast ensemble, of a small-town Georgian environment. The film drips with atmosphere (if not total superlative craftsmanship, sometimes it\\'s good and sometimes just decent for Altman), as Savannah is possibly going to be hit by a big hurricane and the swamp and marshes and rain keep things soaked and muggy and humid. So the atmosphere is really potent, but so are performances from (sometimes) hysterical Kenneth Branaugh, Embeth Davitz as the \\'woman\\' who lawyer Branaugh gets caught up with, and Robert Downey Jr (when is he *not* good?) as the private detective in Branaugh\\'s employ. Did I neglect Robert Duvall, who in just five minutes of screen time makes such an indelible impression to hang the bad-vibes of the picture on? <br /><br />As said, some of the plot is a little weak, or just kind of standard (lawyer is divorced, bitter custody battle looms, innocent and goofy kids), but at the same time I think Altman saw something captivating in the material, something darker than some of the other Grisham works that has this standing out somehow. If it\\'s not entirely masterful, it still works on its limited terms as a what-will-happen-next mystery-Southern-noir.'\n",
            " b'I have seen \"Miracles Still Happen\" now at least four times. I never tire of this fantastic movie. From the very beginning, it holds a person\\'s interest. As the movie progresses and the plane crashes the story becomes very intense as we watch this young girl trying to survive alone and frightened in the Amazon, following a plane crash in which she was the only survivor. Losing her mother in this plane crash as well makes this movie even more dramatic as we see the perils this young girl had to endure during her ten days in the Amazon. To think this really did happen is just unreal and to think that anyone could actualy survive this is unspeakable as we see the wild animals, snakes and other reptiles, the enormous forests and wildlife as well as countless insects. As the movie progresses we see the many dangers this girl has to face as she tries to follow the river in hopes of it leading her to a town. Remembering what her father told her about how a stream will always lead to a river and then into an even larger river and this means it will eventually lead to a community, this young girl keep track of the tiny stream which eventually lead into a huge river all throughout the movie. At times having to swim in dangerous waters, alone, frightened, injured, she always managed to keep going. Towards the end of this movie it was obvious she would not have been able to continue much longer as she had not eaten in ten days and only had water to drink and was very sick and tired from her perils. Eventually as she sees a canoe, she realizes there has to be a village and men find her and they take care of her and then take her to a hospital where her father comes to see her, after fearing she was dead along with the many other passengers. Such a dramatic movie and so heartwarming to see her father\\'s face when he sees his daughter is actually still alive after all this time in the Amazon! Movies like this aren\\'t made much those days. I will still see it again and I know I will never tire of it! To think this girl was the only one single survivor of this airplane is just unspeakable! Also the fact she only maintained a few very slight injuries was even more remarkable, whereas everyone else on this airplane perished in the horrific crash into the wilds of the Amazon. A brilliant movie, superbly acted out indeed and one I will treasure forever and love to continue watching! Strongly recommended by me for sure!'\n",
            " b\"W. Somerset Maugham's Of Human Bondage is supposed to be a English language classic. If so, much must have been missing from the film version here. Phillip's (Leslie Howard) attraction to Mildred (Bette Davis) is so utterly inexplicable as to make the scenario seem like the post-breakup retelling of a relationship from the man's point of view. Being a family lawyer I've heard many such accounts; the man depicts himself as noble and always correct, and the woman is a hellion who has had no other objective than to exploit the man.<br /><br />Indeed, unless one is willing to laugh at the social assumptions of the film maker, this is an uncomfortable movie to watch. Phillip even indulges Mildred when she brings over a baby of indeterminate paternity, but the real high point comes when Phillip allows Mildred - enraged and now of dubious sanity - the free run of his flat, with predictable results. Bette Davis was attractive for about five years of her life, but that period didn't occur here. In fact, by the end of the movie she looks a lot like the Baby Jane character she would play thirty years later.<br /><br />I note how Howard's character is always impeccably dressed and groomed. It tells me that Phillip craves middle class respectability. Someone like that could not run from a woman with a course Cockney accent fast enough. Phillip is, for most of the movie, a student; such a person would have been more believable if he had been younger, and had the disheveled looks that bespeak the low income and the low self esteem that often accompanies student status - an English Raskolnikov, as it will. And balanced that by allowing Mildred a modicum of charm.\"\n",
            " b\"I'm going to spend as much time on this review as the writers did on the script. This is easily THE WORST sequel EVER made.<br /><br />They KILLED Navin Johnson. Not only was Mark Blankfield's performance GOD-AWFUL, so was everyone elses!! The physical comedy was forced, flat and predictable. The script seemed to have been written by mongoloid monkeys using the pen names Ziggy Steinberg and Rocco Urbisci. How the producers managed to squeeze out such vile cinematic excrement is beyond me. They even managed to make veteran actor Ray Walston look like a talent-less buffoon. Director Michael Schultz should be ashamed of himself.<br /><br />I want the 96 minutes of my life I spent watching this befouled memory of a brilliant comedy back so I can try and convict everyone involved for this cinematic atrocity.\"\n",
            " b\"I love cartoons. They can show things that films with 'real' actors and scenery cannot - though computer effects are changing that more and more. They can push the boundaries of satire ('The Simpsons'), good taste ('South Park'), spectacle ('Aladdin'), or reality ('Toy Story'). There are some good examples of this in 'Ice Age', such as when we see a motley herd of now-extinct mammals migrating across countryside, chatting like old friends. Such scenes are a pleasure to watch, as we get the feeling of both the familiar and the strange at the same time, usually in a way that makes us laugh. While Ice Age is not as good as the top animated movies of all time, it's a really fun film. Sit back, enjoy the deliberate anachronisms, the lovely backgrounds and the belly-laughs.<br /><br />The story follows Manfred the grumpy mammoth, Sid, an idiotic sloth, and Diego, a sabretooth tiger, as they take a human baby back to his tribe - for very different reasons. On the way, naturally, they have a whole lot of problems. Also popping up throughout the journey is Scrat, history's unluckiest rodent, who is desperately trying to bury an acorn for the winter: in glaciers, on top of dead trees, in ice-caves. His opening scene is a classic.<br /><br />It's a simple story with a very predictable end and a middle that is just a series of funny incidents with some character-building moments thrown in, but some of the scenes, such as the nappy-changing or the dodos, are hilarious, the animals are likeable and it looks good. There is one quite touching moment too, when cave paintings of mammoths come to life in front of Manfred's eyes.<br /><br />Not a must-see, but good for a fun hour or so.<br /><br />7/10\"\n",
            " b\"For everyone who expects a traditional superhero-movie it might be an unpleasant surprise. It is definitely more of a drama rather than an action movie. It focuses mainly on emotions and it's a bit like a Greek tragedy - whatever the main character does it always goes wrong somehow.<br /><br />That's because Sasha, like each superhero, takes the law into his own hands and the society doesn't appreciate it. Sasha becomes an outlaw. While on the run, he meets a beautiful girl and falls in love so things get even more complicated for him.<br /><br />As you can see, the plot itself is really dramatic but the movie lacks in dynamics. It reminds me slightly of the narration in the recent movies by Ram Gopal Varma. Everything happens very slowly. However, when there's an action scene it gets so immensely dynamic that before you realize what's going on, it's all over. But the director does not want to impress us with flashy and showy action. What is more important here is the outcome of Sasha's actions, which are mostly very drastic. The score is very scarce, which also makes it more difficult to concentrate on the film. So basically you need to be very patient in order to watch it.<br /><br />Is the film worth it? That is a question really difficult to answer. I don't think that this experience enriched me so very much, but somehow I keep on thinking about this movie and feel like watching it again. Mostly due to the atmosphere, which is really dense, but not suffocating because all the time Sasha and Katya have hope. After all they're young people, who have all their lives to live. So no matter how hard it gets there's always a slight joyous tune when they are together.\"\n",
            " b'While listening to an audio book, Cambpell Scott is the reader. I was so excited to hear his voice and that brought back my disappointment that \"Six Degrees\" was canceled. They never seem to keep the good shows on air long enough to capture an audience that can connect with the shows story. What a shame, and shame on th network for not giving this show a full seasons chance. This was an excellent show to watch with a great cast. The network gave \"Men in Trees\" a second chance witch is also a great show , but they took \"Invasion\" off and that also was something totally different to watch, not the same old-same old themes. Why can\\'t the networks get it right.'\n",
            " b'Well, because I\\'m a musician I thought, maybe I\\'ll check this movie out on TMC, nothing else good on. One of the worst mistakes of my life so far, and it\\'s only half done. I seriously thought it was one of those soft core movies with crappy plot and crappy acting, crappy filming and crappy effects. But nope, I don\\'t even get the pleasure of that. Even the \"musicians\" weren\\'t very good. I was hoping for maybe some laughs, but I wasn\\'t sure if they were attempting to throw in one-liners or not. But now I have to sit here and watch the rest just until Pulp Fiction starts. Or maybe something better. And now i get to sit here typing until i have 10 lines'\n",
            " b\"this movie probably had a $750 budget, and still managed to surpass Titanic. i rented this the day i crashed my mom's car, and it was the only thing that cheered me up beyond belief! it has to be tied with 'The Assult of the Killer Bimbos'. Things to look for are: 1. The drive in blow job chinese girl scene 2. The bleach blonde in the sassoon shirt who never changes 3. The Flinstone-like screech out driving 4. The clashing ensemble worn by the redhead right before she gets killed (don't worry, i'm not ruining any surprises, for it's soooo predictable) 5. The guy who finds it necessary to howl. 6. The mental patient who plays a convincing job of being insane by poking out the eyes of a maniquen. 7. The hour long chase at the end involving the teacher and the priest. 8. the womman writing grafitti on the bathroom wall. 9. last, but not least, the wonderful special effects--especially the stab in the boob that made a... heaven help me... popping noise.<br /><br />enjoy!<br /><br />\"\n",
            " b'Wasn\\'t quite sure what to expect with this one, outside of the uniform positive reviews I\\'ve read. Turns out, I could have never imagined this movie, because it\\'s very close to \"The Bride with White Hair\" in being operatic and dealing with the fantastic. This walks a fine line between being a farce, a comedy, and just plain good old fashion ghost story telling. There\\'s nothing scary about it, that\\'s not the theme, it\\'s really mostly a love story dealing with a bumbling guy who encounters a beautiful ghost, who is in a lot of trouble with other ghosts. So the main theme is the guy trying to save the beautiful ghost. This also takes place in ancient China, with wild outlandish Kung Fu exhibitions, and a trip to hell (more or less). Some of the stop-action ghosts are pretty cool, and the visual effects are top rate all the way. I could watch this genre of Chinese movies all day, because they are highly entertaining, great visuals, and pretty much tongue-in-cheek. And I\\'m looking forward to watching the first sequel of this movie also. Highly recommended.'\n",
            " b\"The plot is rocky. The acting is somewhere south of a Jr. High School play. The cinematography is not bad but it looks like it was cut with a machete. I couldn't decide of this was an intentionally hokey flick or if the people behind it actually thought they were making a good film. Think Death Valley Days meets Mayberry RFD. People running around in a 'lawless' modern town wearing quick-draw 6 gun rigs. It has more than its fair share of 'cutsey' stuff. Picture the Good Guys pulling up to an old farm house, and parking the Ford Mustang right in front of a hitching rail. Picture the clerk in a hotel watching an obviously western (hemisphere) movie sporting a Japanese sound track but with English sub-titles. It's all really strange but might be improved if watching it while partaking in a little peyote. It's a real curiosity with modern parallels to every western movie clich\\xc3\\xa9 you can think of. There's even a modern version of the good hearted dance-hall girl, AND a twanging Jew's-harp in the soundtrack. Really! If someone brings this to your home for a Saturday night movie session, tell 'em your DVD player died.\"\n",
            " b\"I wonder how the actors acted in this movie. Annette Bening was really herself, half in and half out, was she faking or being natural? It didn't make any difference considering that even if she had been walking on the ceiling it would not have changed the pattern of the film. Brian Cox acted really well. I almost thought that he had always acted this way, tricky, dishonest, in a dirty surrounding where nobody really cared about hygiene. As for Gwyneth Paltrow, the question is what she was doing in this film.<br /><br />This film is quite sickening and disgusting. Who would pay to see such a crap?\"\n",
            " b'According to IMDb, as well as to every other website that holds a review; this \"thing\" doesn\\'t have a director. Well, that would surely explain a lot! Just a bunch of people that gathered together to shoot some perverted porn sequences and throw in an ultra-thin storyline about devil-worshiping and women sacrifices inside the walls of a secluded sanitarium. \"Hardgore\" is a prime example of totally demented 70\\'s smut, as it\\'s really made with a minimum of production values and scripting inspiration. Horror movies about satanic cults were hugely popular during the early 70\\'s and pornography as well, so why not combine the two? Here we have a simplistic story about a young nymphomaniac girl who\\'s committed to a mental asylum, and from the first night already, she\\'s drawn into a network of drugs, psychedelic orgies, rape, torture and dildo-action. Really, a LOT of dildo-action. The friendly lesbian nurse tries to warn her, but she has her throat slit even the same night. The horror aspects are truly poorly elaborated, going from laughably un-scary Satan masks to virulent severed penises attacks. The photography and acting performances are almost intolerably amateurish, but what do you expect from a film that features footage of sperm-firing dildos and talking amputated male reproduction organs? Leading lady Justina Lynn is a rather good looking girl with a ravishing body, but most of her co-stars (male & female) are hideous and excessively haired sleaze balls.'\n",
            " b'I have two good things to say about this film: the scenery is beautiful and Peter Falk gives a good performance (considering what he had to work with in terms of dialog and direction). However, that said, I found this film extremely tiresome. Watching paint dry would have been more entertaining. It seemed much longer than 97 minutes. Beginning with opening sequence, where everyone is talking over each other and Paul Reiser is repeating everything that\\'s said to him on the phone, the movie is annoying. The film is filled with clich\\xc3\\xa9s and shtick, not to mention endless incidents of audible flatulence by Falk. Also, the director seems to have had difficulty deciding whether to aim for laughs or tears. There are some sequences that are touching, but they\\'re all played for laughs. If schmaltzy, sentimental, and \"cute\" appeal to you, you\\'ll love it. But if you were hoping for something with more substance, see a different movie.'\n",
            " b\"This is a fantastic series first and foremost. It is very well done and very interesting. As a huge WWII buff, I had learned a lot before seeing this series. One of the best things this has going for it is all the interviews with past individuals back when the war was relatively fresh in their minds, comparatively speaking that is. It is nothing against the men that you see getting interviewed in the programs of today, it is just that most of these men weren't really involved in the upper echelons of what was happening then. One of the best parts is the narrating by Sir Laurence Oliver. I would recommend this to anyone that wants to learn about WWII, but really think only the die-hards (such as myself) will want to buy this or watch it more than once. My only real complaint about this entire series is that some of the facts aren't quite as accurate as we now know. Especially with the information about Soviet Union is exaggerated or just plain inaccurate in places. That information is now different we now know because of the fall of the USSR. Overall a fascinating look at WWII and a must see for any serious WWII historian professional or personal alike.\"\n",
            " b'I didn\\'t think the French could make a bad movie, but I was, clearly, very wrong. As has been said before, this film essentially uses its title character as a point of departure; its portrayal of her life and person have little or nothing to do with the real Artemisia Gentileschi. <br /><br />The script is awful -- pretentious, stilted, and vapid -- and its rewriting of the facts is unusually offensive even in a genre that all too often makes its living by distorting, rather than retelling, history. Along with some fairly decent set design, Valentina Cervi\\'s physical charms are the primary asset of this movie, and it\\'s obvious from the beginning that the filmmakers were aware of this too; they waste no time in contriving various \"erotic\" sequences which have far more to do with titillation than with plot or character development. Unfortunately, the appeal of seeing a pretty young girl in a state of feigned sexual arousal cannot, and does not, sustain this movie. The acting is unremarkable, and the score is all too generic despite an interesting chord or two. The cinematography is OK, and there are some pretty colors, but there are also some pretty ridiculous sequences using distorted-lens effects more appropriate for a 1960s freakout movie than a costume drama. In any event, the script leaves the camera dwelling all too often on Artemisia\\'s body, and all too seldom on her paintings.<br /><br />All told, a near-complete failure. It\\'s not intelligent or tasteful enough to be a serious film, and it\\'s too slow and pretentious to work as soft-core pornography. So the French can fail, after all!'\n",
            " b'Jim Belushi is having a mid life crisis, nothing is going right, when his car goes out on him..he goes into an empty bar where Michael Caine shows him what life wouldve been like if one event in high school had come out differently.. A good premise with some moments..but mostly flat and uninteresting. on a scale of one to ten..3'\n",
            " b'From the beginning this movie did have a few flaws. The main character played by Hayden Christensen is a the rich young mogul who has inherited his father\\'s considerable wealth and power, and he is struggling to both fill his father\\'s shoes and cut the apron strings mother (and co-executive) keeps too tight. He also has the problem of having a heart condition and waiting in the limbo that is the organ donor registry. There are also minor back stories which your first instinct is to mostly ignore that become important later, such as his friendship with his surgeon (Terrence Howard) and his romance with a middle class girl (Jessica Alba). Uncreative story lines, but not bad enough to ruin the movie. The only real \"oy vey!\" moment was the name of Lena Olin\\'s character. Overbearing woman named Lilith...subtle!<br /><br />The surgical scenes are not at all censored. I appreciated that, people who find surgery scenes scary might not. The horror of being awake during anesthesia was done well at first. You watch in emotional agony as Christensen screams inwardly through the chest incision and the rib spreader. The moment of irony from the trailers then comes where while he is one of the unlucky few to be awake during anesthesia, he is also luck in that it helps him learn that his surgical team is planning to murder him.<br /><br />The big twist, however, is very predictable and sends the film delving into the conspiracy and his memories of the little signs which were there but he, like us, initially missed. <br /><br />There are two more twists at the end involving his relationship with his mother. One is an impressive gesture by Olin, which comes of as unimpressive due to poor writing. The other is a secret about the family\\'s past which seemed very tacked on and pointless.<br /><br />The initially well done anesthesia awareness drama gets lost in the poorly written conspiracy drama. There is a one final attempt to bring it back which falls flat, taking the entire movie with it.'\n",
            " b'As said before, the visual effects are stunning. They\\'re breathtaking. I personally use Blender and graphics like that are not easy AT ALL. But that\\'s all this movie is. Not only is the plot confusing, but the overall conflict is not clear. For example, in the first scene, Proog and Emo are trying to run away from who knows what. The conflict seems to be between man and nature here. Later, when they enter the room of the bottomless pit, Proog explains that \"one step out of place and (you\\'re dead)\". Here, there\\'s a more precise conflict between the careless man and nature. As the movie progresses, it\\'s clear that a conflict exists between man and nature. But suddenly, a conflict exists between man and man when Proog, out of nowhere, murders Emo. Proog immediately changes from being a caring guardian looking after a lost child to being a \"sick man\". He betrays us. Not only is this depressing, but we don\\'t care because the conflict between the character\\'s thoughts and actions is not developed. It\\'s not a story about someone, through struggle, emerging stronger. It\\'s depressing and has not point because there\\'s no great truth about the human soul or about the world brought to light like a great drama does. In my opinion, the movie is severely underdeveloped in all aspects. However, the graphics are stunning, but a movie is so much more than mere eye candy. There\\'s no truth, no struggle and a bad surprise ending. In conclusion, an underdeveloped movie without a point. ...but the graphics are good.'\n",
            " b'In Canadian director Kari Skogland\\'s film adaptation of the Margaret Laurence novel The Stone Angel Ellen Burstyn is Hagar Shipley, a proud and cantankerous woman approaching her nineties who wishes to remain independent until the very end, stubbornly refusing to be placed in a nursing home by her well-meaning son Marvin. Filmed in Manitoba, Canada and set in the fictional town of Manawaka, The Stone Angel is a straightforward and conventional interpretation of the book that has been required reading in Canadian high school English classes for almost half a century.<br /><br />The title of the film comes from the stone statue erected on Hagar\\'s mother\\'s grave which serves as a metaphor for Hagar\\'s inability to express emotion during her tumultuous lifetime. Burstyn brings vulnerability and humor to the role but is a bit too likable to fully realize the ego-driven, self-defeating character who managed to alienate her wealthy father, her well-meaning but alcoholic husband, and both of her sons. As she nears the end of her days, she reflects that \"pride was my wilderness and the demon that led me there was fear. I was alone, never anything else, and never free, for I carried my chains within me, and they spread out from me and shackled all I touched\".<br /><br />Confronting having to spend her last days in a nursing home, Hagar looks back at her life and looks at her failed relationships, her recollections shown in flashbacks without voice-over narration. The story begins with a dance that she attended as a young girl. Chaperoned by her Aunt Dolly, she meets her future husband, the previously married Bram Shipley (Cole/Wings Hauser), a poor farmer whose reputation in the town is sullied because of his association with the Native American population. The young Hagar is played by Christine Horne who is exceptional in her first feature role. Despite Hagar\\'s pleading, her relationship with Bram is rejected by her cold and rigid father whose refusal to attend the wedding starts the marriage off on the wrong foot. This is exacerbated by his leaving all of his money to the town of Manawaka, condemning the young couple to a life of poverty.<br /><br />Going through the motions of her marriage to Bram, Hagar withdraws from social activities to prevent being rejected by the town\\'s upper classes. When she produces two sons, Marvin (Dylan Baker) and John (Kevin Zegers), she is unable to give them the love that they need. \"Every joy I might have held in my man or any child of mine or even the plain light of morning\", she reflects, \"all were forced to a standstill by some break of proper appearances\\xc2\\x85When did I ever speak the heart\\'s truth?\" Like the biblical Hagar who fled to the desert because she could not tolerate further affronts to her pride, Hagar leaves Manawaka to live in Ontario but eventually returns to the Shipley farm.<br /><br />As the scene shifts back to the present, Hagar runs away to an abandoned house near the ocean that she remembers from her childhood to escape from being placed in a nursing home by Marvin and his wife Doris (Sheila McCarthy), Here she meets a young man named Leo (Luke Kirby) who takes an interest in her and compels her to look at and take responsibility for the mistakes she made in her life. The Stone Angel pulls out all the emotional stops but never fully develops its characters to the point where I felt any stake in the story\\'s outcome, although the spirited performance by Ellen Page as John\\'s devoted but naive girlfriend and the moving final scenes bring a new energy to the film\\'s second half.'\n",
            " b\"Take this movie for what it is, not a remake, but a completely different approach to the same concept. It's not an epic like the original, it's more of a popcorn thriller. Visually, it's incredible. Everything else was just OK. <br /><br />For what it is, I think the movie is awesome, but I like everything Burton has done. People need to calm down and stop acting like it's the end of the world b/c of this movie. It wasn't supposed to be a remake, and it's not. <br /><br />The ending was cool. . I took it as a parallel universe.\"\n",
            " b'And how many actors can he get to stand in for his own neurotic, compulsive uber-New Yorker persona? In this film Woody is played by Will Ferrell in what is mercifully less a direct impersonation than the one Kenneth Branagh did in \"Celebrity.\" It\\'s an annoyingly repetitive story now: nebbishy, neurotic man with a wife or girlfriend falls madly in love with a shiksa queen upon which he projects all manner of perfection. Everyone lives in perfect gigantic apartments in great Manhattan neighborhoods, everyone constantly patronizes expensive, exclusive restaurants during which all the characters relate fascinating anecdotes and discuss arcane philosophy, there is always a trip to the Hamptons during which the nebbishy main character spazzes out about sand and physical exertion and possible exposure to diseases, and then of course, said main character feels guilty about his lust for the shiksa queen but pursues her anyway, sometimes succeeding, sometimes failing, etc.<br /><br />This a tired formula, and proof that Allen isn\\'t really a great film artist at all. He just seems like a dirty old man with the libido and emotions of a 20-year-old who is intent upon telling the same boring old stories again and again.'\n",
            " b'i, too, loved this series when i was a kid. In 1952 i was 5 and my family always watched this show. My favorite character was the one played by Marion Lorne as a rather stuttering, bumbling and very lovable \"aunt\" type person. i can still recall her \"ubba bubba um um\" type comments as she would try and say something important. And then when she came back and played Aunt Clara in Bewitched it was great casting! <br /><br />It was the first time that i can remember seeing Walter Matthau whose career i followed as a fan for many many years.<br /><br />i have a question if anyone can verify: was the title or end credits music the \"Swedish Rhapsody\" by Hugo Alfven? Every time i hear it played on my classical radio station here in Southern California it brings back memories of the image of Mr. Peepers walking away with his back to the camera. i\\'m not even certain if this image in my mind\\'s eye is correct.'\n",
            " b'I vaugely recall seeing this when I was 3 years old, then my parents accidentally taped over all but a few seconds of it with some other cartoon. Then I was about 8 or 9 years old when I rediscovered it and since I was then able to comprehend things better, I thought it was a good movie then. Fast forward to Just a few weeks ago (June 2006) when I re-re discovered it thanks to some internet articles/video clips and it\\'s just not the same movie. I\\'m sure it\\'s still good with the kids, but to us 20-30 somethings it\\'s definitely got \"Cult Status\" written all over it. It\\'s a shame that the original production went through a painful process; if Fox gave it enough time it would probably be more recognized in the public eye today. Maybe if they were to remake it with a totally different story and an all star voice cast it could be, but that\\'s for Fox to decide. I\\'m rambling here, I know. I Still think it\\'s a great film, but it could be better than great.'\n",
            " b'This film is absolutely stunning. A new Blade Runner - future noir at it\\'s most gritty. The vision of Paris is superb, both recognisable and visionary, with sweeping vistas, grungy set pieces and futuristic virtual reality.<br /><br />The story line is quite simple, with few surprises, but that\\'s not what I like most about the film. It is a visual treat. <br /><br />Done in 3D and rendered in black and white (no greys!) with only one short spot of colour, it is less hard on the eyes than it sounds. There are many \"arty\" camera shots - closeups and odd viewpoints - but that just adds to the temperament of the film. Overall you get the impression of a graphic novel in footage form.<br /><br />I was initially under the impression that the film had been rotoscoped, such was the level of animation and high detail in the character\\'s facial expressions. But unlike \"A Scanner Darkly\" - which suffers from (or indeed is enhanced by) inconsistent character definition (just watch the way some of the hair changes shape!) - Renaissance is consistent and precise throughout. When the character is in close-up, added details and texture can bee seen, but when in mid-shot or further away details are omitted, but not to the detriment of character definition.<br /><br />For me, the only down side of the film is that in one commentary we are told that this is a one-off project. Such a shame, as I would like to see more of this futuristic film-noir storyline and especially in this cutting-edge graphic style.<br /><br />Oh, and the English dub is great too.<br /><br />All in all a great film and highly recommended.'\n",
            " b'The film begins with a bunch of kids in reform school and focuses on a kid named \\'Gabe\\', who has apparently worked hard to earn his parole. Gabe and his sister move to a new neighborhood to make a fresh start and soon Gabe meets up with the Dead End Kids. The Kids in this film are little punks, but they are much less antisocial than they\\'d been in other previous films and down deep, they are well-meaning punks. However, in this neighborhood there are also some criminals who are perpetrating insurance fraud through arson and see Gabe as a convenient scapegoat--after all, he\\'d been to reform school and no one would believe he was innocent once he was framed. So, when Gabe is about ready to be sent back to \"The Big House\", it\\'s up to the rest of the gang to save him and expose the real crooks.<br /><br />The \"Dead End Kids\" appeared in several Warner Brothers films in the late 1930s and the films were generally very good (particularly ANGELS WITH DIRTY FACES). However, after the boys\\' contracts expired, they went on to Monogram Studios and the films, to put it charitably, were very weak and formulaic--with Huntz Hall and Leo Gorcey being pretty much the whole show and the group being renamed \"The Bowery Boys\". Because ANGELS WASH THEIR FACES had the excellent writing and production values AND Hall and Gorcey were not constantly mugging for the camera, it\\'s a pretty good film--and almost earns a score of 7 (it\\'s REAL close). In fact, while this isn\\'t a great film aesthetically, it\\'s sure a lot of fun to watch, so I will give it a 7! Sure, it was a tad hokey-particularly towards the end when the kids take the law into their own hands and Reagan ignores the Bill of Rights--but it was also quite entertaining. The Dead End Kids are doing their best performances and Ronald Reagan and Ann Sheridan provided excellent support. Sure, this part of the film was illogical and impossible but somehow it was still funny and rather charming--so if you can suspend disbelief, it works well.'\n",
            " b'There\\'s little to get excited about \"Dan in Real Life\". First off, the whole setup is incredibly contrived. Did you really believe that during that very long first meeting conversation at the restaurant, Marie wouldn\\'t have told Dan where she was going? And since Dan did all the talking during that conversation, why would she be so attracted to him? For that matter, I never figured out why Marie was so attracted to Dan throughout the movie. He\\'s very narcissistic and does little to convince us that he\\'s truly a good guy (for example he lies to Marie in the bookstore, ridicules his brother about his past girlfriends and tries to make Marie jealous with a \\'blind date\\'). There\\'s more contrivance such as that ridiculous scene at the bowling alley where Dan and Marie are caught making out by the whole family. Yeah like that could really happen. Dan in Real life is slow-paced, sappy and manipulative. Even chick flicks like The Jane Austen Book Club get higher marks than this predictable \"tearjerker\".'\n",
            " b\"...for this movie defines a new low in Bollywood and has set the standard against which all c**p must now be compared.<br /><br />First off, the beginning did have elements of style....and if handled well, could have become a cult classic, a-la pulp fiction or a Desi desperado...but the plot (was there one?) begins to meander and at one point completely loses it.<br /><br />Throw in a deranged don with an obsession for English, a call center smart Alec, a femme fa tale who can don a bikini and a Saree with the same aplomb, a levitating, gravity defying hit-man and a cop with a hundred (or was it a thousand) black cat commandos on their trail....good ingredients in competent hands. But this is where I would like to ask the director: Sir, what were you smoking?<br /><br />Im sure this movie would be remembered in the annals of Bollywood film making - for what must never be done - insult the intelligence of the most brain dead of movie goers. <br /><br />Possibly the only redeeming feature in this Desi matrix plus desperado plus grindhouse caper is the music...watch the videos...hear the airplay and you wont be disappointed. Vishal- Shekhar come up with some eminently hummable tunes. <br /><br />How I wish the director had spent the money in creating some more eye candy....<br /><br />As I sign off, I want to really, badly know how does Akshay's bullet wound vanish in a microsecond...what were you editors doing? Tashan, maybe...\"\n",
            " b'MYRA BRECKINRIDGE is one of those rare films that established its place in film history immediately. Praise for the film was absolutely nonexistent, even from the people involved in making it. This film was loathed from day one. While every now and then one will come across some maverick who will praise the film on philosophical grounds (aggressive feminism or the courage to tackle the issue of transgenderism), the film has not developed a cult following like some notorious flops do. It\\'s not hailed as a misunderstood masterpiece like SCARFACE, or trotted out to be ridiculed as a camp classic like SHOWGIRLS. <br /><br />Undoubtedly the reason is that the film, though outrageously awful, is not lovable, or even likable. MYRA BRECKINRIDGE is just plain mean. As a Hollywood satire it is cold-blooded and mean-spirited, but in a hollow pointless way. MYRA takes for granted that Hollywood is a corrupt town, but goes further to attack such beloved icons as Laurel and Hardy, Shirley Temple, Judy Garland and Gary Cooper. The film seems to imply that everything about Hollywood is by its very nature vile. It seems to think that there is something inherently courageous about mocking sacred cows, but doesn\\'t supply a rationale for doing the mocking in the first place. The film is also viscously anti-American and anti-establishment and anti-this and anti-that, but all in a superficial, late-1960\\'s, trendy way. Like CASINO ROYALE; SKI-DOO; I LOVE YOU, ALICE B. TOKLAS and other would-be hip epics, MYRA is a middle-aged vision of the hippy-dippy youth culture. It tries to embrace the very attitude that it belittles. But instead of being cheerfully self-mocking, MYRA makes no attempt to conceal its contempt for everything that comes within its grasp. MYRA BRECKINRIDGE has the humor of a bully; there\\'s not a single moment of innocence in it. Its intentions aren\\'t honorable. TIME magazine aptly described it as being \"about as funny as a child molester,\" but it\\'s not nearly as sympathetic.<br /><br />For instance, poor Mae West bore the brunt of so much of the criticism aimed at the film, being described as looking like everything from an aging drag queen to a reanimated walking corpse. The octogenarian star obviously didn\\'t know just how ridiculous she looked playing a lecherous talent agent lusting after men young enough to be her grandsons or even her great-grandsons. But, director Michael Sarne had to know, but he used her anyway. Why? Because, she apparently was the joke. Just like John Huston, John Carradine, Grady Sutton, Andy Devine and other veteran performers in the film, they are there only so the film can mock their age and use them to trash their film images. They are cast as smarmy self-parodies, as is Rex Reed, the arrogant, fey film critic, who is cast as just that in the film. But the real Reed, the celebrity hound, jet-setting, talk show gossip, can be charming in an obnoxiously funny way; but as Myron, Myra\\'s alter ego, he is just obnoxious. Again, apparently for Sarne, Reed is the joke.<br /><br />You watch MYRA BRECKINRIDGE and you don\\'t see actors, you see victims. None more so than Raquel Welch. No one will ever accuse Welch of being a great actress, but it is a testament to her tenacity and her appeal that she survived this film and her career prospered. Being in almost every scene, Welch was front and center as a target for abuse aimed at the film, but to her credit, she gives a remarkably nuanced performance. Though, of course, centered between the scenery chewing Huston and the almost catatonic West, Welch doesn\\'t have to do much to strike a good balance. Even so, she renders her horribly unfunny dialogue with a deadpan smirk, with just the hint of self-righteous glee that would do any James Bond villain proud. Legend has it that Welch was snubbed by a condescending West and subjected to repeated verbal abuse on the set by bumbling director Sarne, not to mention being featured in one degrading scene after another, making it all the more remarkable that she was able to give such a cool and collected performance.<br /><br />The film\\'s only intriguing element is trying to figure out just what the film\\'s agenda is. The whole story is a fantasy fable, which should indicate that it has a moral to deliver, but what that might be is anybody\\'s guess. With all of its talk about destroying \"the last vestigial traces of traditional manhood from the race,\" it would seem to have a feminist axe to grind. But as a feminist, Myra is a monstrous figure, a sexual predator. Besides, Myra isn\\'t a woman, rather she is a delusion of Myron, who presumably is a gay male. That might explain the male rape scene as well as the character\\'s love/hate attitude toward the macho, seemingly straight, deadhead Rusty, but it doesn\\'t explain his/her obsession for and the supposedly lesbian tryst with Farrah Fawcett\\'s Mary Ann. The film is obsessed with sex, but can hardly be accused of being in favor of the sexual revolution; all the sex is treated as being, if not dirty, than at least perverse and degrading. Turning to Gore Vidal\\'s original novel isn\\'t of any help, because it is as confused and pointless as the movie.<br /><br />And this is a rare movie that actually seems to hate movies. Not just movies as a business, but movies as part of the culture as well. The film itself is wall-to-wall arcane references to old movies, all of which director-screenwriter Sarne approaches with a seething disdain. He has raided the film vaults of 20th Century-Fox and peppered the film with snippets of old films, not as an homage or to provide a social commentary, but to mock the innocence of old Hollywood. How can an artist -- if you generously want to call Sarne that -- make a work of art if he already hates the very medium he is working in? The very effort is totally self-defeating.<br /><br />MYRA BRECKINRIDGE doesn\\'t seem to be in favor of anything other than being just nasty. It hates Hollywood, it hates America, it hates sex, it hates gays and straights and women and men and old people and young people and Laurel and Hardy and, well, you name it and it probably has a scene showing contempt for it. In a very sad and sorry way, MYRA BRECKINRIDGE may be the first punk manifesto, a celebration of pop culture nihilism.'\n",
            " b'Well this is the first post am ever commenting on IMDb., do you get it, this movie has made me come and warn all the good souls who will stop ever experimenting with movies.<br /><br />As most of them have given their comments I thought of watching this movie because it seemed to have some decent actors(though having read worst critics against this movie) I thought of experimenting it assuming it to be some comedy flick., Well it all started well with some ahem., comedies.... then it all started going pathetic... man you can believe your self, you wud feel like going and banging your head each and every time the pathetic looking woman called the heroine of the movie is made helpless...Huh~~ Well how much can a person digest a sick all POSSESSIVE witch kinda ghost trying to do all she can to irritate you and stop you from what you are doing.<br /><br />The next worst thing about the movie is, the \"ZOMBIE\" Hero, yes as he looses his fianc\\xc3\\xa9 he roams around like a Goat, with black marks under his eyes., and with the hero\\'s \"terribly stupid\" sister.. you wud be bleeding from head to toe if you attempted and succeeded by completely watching this movie~!'\n",
            " b\"Blood Legacy starts with the arrival of lawyer Tom Drake (Norman Bartold) to the Dean estate formerly owned by the now deceased Christopher Dean (John Carradine), upon his arrival he is greeted by Mr. Dean's four children, Gregory (Jeff Morrow) & his wife Laura (Merry Anders), Victoria (Faith Domergue), Johnny (Richard Davalos) plus Leslie (Brooke Mills) & her fella Carl Isenberg (John Smith). Drake plays a tape recording of they're late Father's wishes after his death, the estate worth 136 million dollars is to be split equally between his four children, if any should die then the money would be split equally between the rest & if all were to die the freaky servants Elga (Ivy Bethune), Igor (Buck Kartalian) & the more mundanely named Frank (John Russell) would pocket the lot. Well, not satisfied with a quarter share of $136 million (which is still almost $35 million back in 1971 which doesn't sound too bad to me) someone decides they want it all for themselves & it's not long before decapitated heads are turning up in the fridge...<br /><br />Co-written, produced & directed by Roy Monson Blood Legacy disappointed me on two accounts. For starters this film's alternate & much more common title is Legacy of Blood which is also the title of an obscure horror film directed by Andy Milliagn back in '78 which I've always wanted to see, both films are regularly mixed up as both have similar stories & when I checked my on screen cable TV guide for Legacy of Blood I was excited because it said it was the Milligan film & even listed him as director so when I actually sat down to watch it & I heard John Carradine's voice & I then knew it wasn't the Milligan film that I had wanted to see, my heart sank. Then, of course, there's the simple yet undeniably straight forward fact that Blood Legacy is a total utter piece of crap that is literally painful to watch at times. The script by Monson & Eric Norden is slow, boring & extremely predictable. The character's are absolutely bizarre in an annoying way, the freak of a servant who ask's his sister (?) to cane him, the strange set of Brother's & Sisters who are just downright unlikeable & so far removed from reality that any tension or mystery that the simplistic whodunit story could have achieved is sorely missing & then there's the awful twist ending that you can guess within the first 10 minutes. It's boring to watch, it's poorly paced & it's just a chore to even think about it. Please, someone save me as this is really bad stuff. I could go on all day about how bad Blood Legacy is, I really could.<br /><br />Director Monson was either working with a none existent budget or judging by this he shouldn't have even been directing traffic. The entire film looks ugly, it's poorly photographed & there is no atmosphere or scares. The blood & gore is tame, there's an axe in a head, a decapitated head, a scene when someone is stung to death by wasp's & the best murder when someone's face is eaten by piranha. However there are question marks over this scene, so there's the victim, right. There's the tank of piranha, right. Victims head is placed in piranha tank, right. Pirahna eat victims face, right. Water remains crystal clear despite said victim having his face eaten, erm where's the blood?<br /><br />Technically Blood Legacy is terrible, it looks awful, the sound was obviously shot live & it's muffled & hard to hear which considering the terrible dialogue is maybe a blessing in disguise. The acting was not going to win anyone any awards that's for sure, the least said about it the better.<br /><br />Blood Legacy is an awful film, there really isn't a single positive aspect to it or if there is I can't think of it. Do yourself a favour & don't bother with this one, there are much better films out there.\"\n",
            " b'It\\'s hard to say sometimes why exactly a film is so effective. From the moment I first came across \"The Stone Boy\", something told me it would be a great film. In spite of that, it seemed very unlikely that I\\'d ever have the opportunity to actually see it for myself. Then, one day, while looking through the online catalogue of my local library, I saw that they had recently purchased the DVD release of this film. Which I\\'m extremely glad for, because the cinematography is of a stunning depth and quality that an old VHS copy could never replicate.<br /><br />And speaking of the cinematography, I must single it out as far and above the most stunning aspect of this film. As a photographer who pursues very nearly the exact visual style portrayed in \"The Stone Boy\", I\\'m a firm believer in the fact that a great cinematographer can almost single-handedly carry a film. Here, he has a lot of help from an extremely talented cast, and a director who understands perfectly what the story needs. But to have Juan Ruiz Anch\\xc3\\xada behind the camera makes virtually every scene something of beauty. And you can almost never say that. Most films would never even expect such a thing of you. Scene after scene captures some detail, some little bit of visual magic that takes your breath away.<br /><br />The director, Christopher Cain, has had a long and interesting career. As far as I can gather, this film is not very representative of it. But, sometimes, to catch a director near the beginnings of his career, before all the big budgets and loss of focus, there\\'s a real subtle magic to be found. Cain steps back in this film, lets things happen with a life of their own, and then ever further. Much like early John Sayles films, characters are given space to breathe, time to talk. Side stories happen because they do, and that\\'s how life is. Cain displays a remarkable, raw, even outright painful understanding of human nature in this film.<br /><br />The acting ties much of this story together. When people talk, when they exist in this film, they do so as actual people, not held back by the fact that they are playing characters. Gina Berriault\\'s script allows immensely talented and respected actors like Wilford Brimley, Robert Duvall, Glenn Close, and Frederic Forrest to spend time simply existing. Whether the things they have to say are minor or of deep significance, it all comes down with the weight of pure reality.<br /><br />When you look at the actors involved, or the great soundtrack by James Horner, it seems strange that such a film be very nearly forgotten. Maybe much of what makes \"The Stone Boy\" what it is was the time period it was made in. There\\'s this 1970s hangover feeling to this picture that reminds me deeply of my own childhood. People talk of the 80s in terms of modern styles and music, but that\\'s not the 80s I lived in or remember. The look of the images, the understated and dark knowing quality of the acting, and the overall result should get under the skin of any person who grew up in or near this era of time in North America. I see myself in this. I see how I saw the world. And a film like \"The Stone Boy\" sees the world for how it truly is.<br /><br />For more of this feeling, please see:<br /><br />The Black Stallion (1979), Never Cry Wolf (1983), Tender Mercies (1983), Testament (1983), Places in the Heart (1984), Matewan (1987), High Tide (1987), Driving Miss Daisy (1989), The Secret Garden (1993), The Secret of Roan Inish (1994), Wendy and Lucy (2008)'\n",
            " b'I\\'ve seen all four of the movies in this series. Each one strays further and further from the books. This is the worst one yet. My problem is that it does not follow the book it is titled after in any way! The directors and producers should have named it any thing other than \"Love\\'s Abiding Joy.\" The only thing about this movie that remotely resembles the book are the names of some of the characters (Willie, Missie, Henry, Clark, Scottie and Cookie). The names/ages/genders of the children are wrong. The entire story line is no where in the book.<br /><br />I find it a great disservice to Janette Oke, her books and her fans to produce a movie under her title that is not correct in any way. The music is too loud. The actors are not convincing - they lack emotions.<br /><br />If you want a good family movie, this might do. It is clean. Don\\'t watch it, though, if you are hoping for a condensed version of the book. I hope that this will be the last movie from this series, but I doubt it. If there are more movies made, I wish Michael Landon, Jr and others would stick closer to the original plot and story lines. The books are excellent and, if closely followed, would make excellent movies!'\n",
            " b\"This movie should have been named Need For Speed: The Movie. For those who have not played the games Need For Speed is mostly about hot cars and beautiful women and almost no plot. This applies perfectly to Redline. The only thing about this movie that was A-Level were the cars. The acting seemed forced and scripted, the premise was flimsy at best, and the plot was almost nonexistent. I only really watched this movie to see how bad it was and, while it was pretty bad, it could have been worse. And at least it was entertaining. I just wish they had showed Eddie Griffin crashing the Enzo somewhere in the movie. All in all, don't pay for it, don't go out of your way to see it, but if it's on Showtime or HBO and there isn't anything else on, it's a decent distraction.\"\n",
            " b\"I always follow the Dakar, so when my husband bought Charlie's 'Race to Dakar' DVD home I couldn't wait to watch it! Of course we'd seen the broadcast of the race when the actual race was on, but that never gives the background and specific teams.<br /><br />If you watched Long Way Round then you won't be surprised by the language which frankly I find more amusing than offensive.<br /><br />I think the only thing that annoyed me about the DVD was Charlie's hair, but he had it styled before Dakar so my feminine need for neatness was assuaged; tho' I could have lived without the 'flame' undies lol As with LWR, the preparation was every bit as interesting as the race itself. I nearly cried when Charlie broke his hand, and winced at every bruise he sustained while training....and of course the death of Andy Caldicott...that was an appalling tragedy, but then every year there's something.<br /><br />Russ drives me nuts, although his attitude has improved a thousand times from the argumentative cynic he was in LWR. It's great to see him get along so well now with Charlie.<br /><br />What I learned from this odyssey was - 1. never let Scorpion prepare your vehicle for ANYTHING! - they had months to prepare the X5, and still the day before the team left for Lisbon, Scorpion had only done half of things that needed to be done, and the vehicle was a pain throughout the whole race; 2. the Dakar organizers need to put a lot more work into their rider/driver retrieval plan - leaving Matt (and presumably a large number of other riders/drivers out to dry the way they did was nothing short of culpable negligence; 3. Charlie has an endearing enthusiasm for 'rough and tough' adventure but needs to toughen up a lot to really perform as he'd like; and finally, 4. Charlie and Ewan are planning another of these epos called the Long Way Down in 2007, and I can't wait to get my hands on it! :D If you love bikes and/or genuinely nice blokes 'having a go', you have to watch this, I guarantee you love it. It's very entertaining.<br /><br />In conclusion, to Simon Pavey - you sir are a hero, I was so impressed by the your 'quiet achiever' manner and the fact that you actually finished.....just incredible considering what an monumentally difficult race it is. And to Charlie, Matt and the rest of the team - full marks for pulling it off. To think that a relatively green team could have achieved so much is truly admirable. You're all wonderful.\"\n",
            " b'This movie has several things going for it. It is a \"feel good\" story. The characters and actors are likable, realistic and present fine performances. Most important, I believe, is that Dennis Quaid knows how to grip and throw a baseball. Robert Redford looked good both throwing and swinging a bat in \"The Natural, and so did Kevin Costner in \"For Love of the Game\" and \"Bull Durham.\" In \"Major League,\" Tom Berenger and Charlie Sheen looked like they knew what they were doing, but many of the others did not, and that picture was pure silliness - and not very funny. <br /><br />So many earlier baseball movies, even where the stories might be interesting, presented such a lack of baseball ability on the part of the leads, they were ludicrous in this respect. In \"The Stratton Story\" and \"Strategic Air Command,\" Jimmy Stewart looked about as believable as a professional baseball player, as your overweight, non-athletic, elderly uncle in the softball game at the family reunion. Other virile and physically robust stars (e.g., Gary Cooper as Lou Gehrig; Robald Reagan as Grover Cleveland Alexander; and Dan Dailey as Dizzy Dean) also exhibited a degree of baseball ability that would put them in the late rounds while \"choosing-up\" for a game at the Sunday picnic (even if coed, and even if your uncle were involved). <br /><br />The scenes of Quaid\\'s high school team he coached, the ones where he attends his tryout with the Devil Rays, and those with him playing in two minor leagues and in the American League, all ring true. The participants are believable and capable. In addition, he is an engaging actor who always delivers a talented and appropriate characterization (except, to a degree, some of his \"over-the-top\" scenes, and his forced accent, in his portrayal of Jerry Lee Lewis). But he\\'s definitely on-target here, and this movie is a \"9,\" as good, or better, as any others of this genre, except for \"The Natural.\"'\n",
            " b'I do not believe all the praise for this movie. The play and movie were a ripoff of Sleuth. Michael Caine wishes he were Olivier, and Reeves wishes he were Caine. Caine even had the nerve to do a remake of Sleuth with Jude Law playing his original part. Jude Law? You mean the one that did the remake of \"Alfie\"? <br /><br />This movie was made during a period of Caine\\'s career when it was obvious he needed to pay off gambling debts. He would do anything for money. He would star in such award winning movies such as this, and \"Beyond the Poseidon Adventure\". What seems to be driving the praise for this movie is Reeves death. He deserves better than to be remembered for this lousy movie. And so does Caine. This movie can be found in the $5.97 bin at Walmart. Along with gems like \"The Island\", and \"Blame it on Rio\".'\n",
            " b\"I watched the first series avidly, but wondered whether I'd go back again after a lengthy break from it. However, I tuned into episode one of Series 2 and was hooked all over again. This really is excellent telly; ground-breaking stuff like Mission:Impossible back in the 1960s. The characters are well rounded, and expand as the series goes on, they change as they adapt - some more readily than others - to their new surroundings, but they cleverly remain strictly in character, and yet it is more than possible to have sympathy for someone whom you wouldn't have thought you could ever feel sorry for, when something really crushing happens to them. I hope there will be many years of 'Lost' to look forward to - and I don't actually mind all that much if I never get answers to all the mysteries!\"\n",
            " b\"Not a `woman film' but film for the gang. One of the worst films ever made by a male director about woman. Director Andy McKay simply doesn't know woman. Peaks of bad taste, American Pie's humor style, crude story, no sense, groundless story, refuted characters. Vulgar fantasies came to life on screen. Insulting and definitely not funny. I wonder how three good actresses accepted to take part in it.\"\n",
            " b'I have seen this film numerous times and for the life of me, I cannot understand why some people compare this to BABE. This film is not about the secret life of ALL animals who secretly can talk. Instead, it is about a Parrot who learns to talk to help his owner, a little girl with a serious stammer, overcome her speech impediment only to be separated from her in a heart-wrenching scene early on. Then the great journey begins. Paulie the Parrot sets out to try and find his one great friend, Marie.<br /><br />Along the way, he meets several wonderful people and numerous nasty people. He falls in love with a girl parrot and loses her. He gets conned into a life of crime and then captured by a bad scientist who wants to exploit him.<br /><br />He recounts his tale to a sympathetic Janitor in the Lab who agrees to help him escape and find his beloved Marie.<br /><br />Tony Shaloub shines as the kindly Janitor who has an open mind and big heart and who determines to help little Paulie despite the risks. Jay Mohr plays the voice of the Parrot AND one of the seedy characters he comes across.<br /><br />There is a little suggestive language but this film is appropriate for most kids and even more so if the parents join in on the fun and watch too. It is a witty, clever, epic animal-adventure story and ultimately a great love story about a Bird and his little girl. He search for Marie ends with a quite an unexpected surprise for most people who don;t know much about Parrots.<br /><br />Kids who have seen the wild Green Parrot Tribes in Los Angeles and Pasadena will especially benefit from seeing this film and understanding that Birds, especially Parrots are not disposable pets. All children everywhere, will see that Pets form deep attachments themselves and that the love and loyalty of a dog or parrot is a gift to be treasured.<br /><br />so no BABE here, more of an incredible journey with a twist.<br /><br />Enjoy and try no to tear up during the sad parts.'\n",
            " b\"Sad story of a downed B-17 pilot. Brady is shot down over occupied territory. The local ranchers extended him kindness and protection at the cost of their own lives. I had never heard of this movie and it snagged me for two hours. After the film is over, I'm glad I took the time. It's an entire story told to explain the look on Brady's face at the start of the film.\"\n",
            " b'A documentary about two rocks bands, spanning a number of years. Brian Jonestown Massacre and the Dandy Warhols. What makes it special is the examination of the complex contrasting personalities and the ironies of success and failure.<br /><br />Anton Newcombe, the main man of Brian Jonestown Massacre, is widely recognised as a musical genius not only by his colleagues, his friends and rivals the Dandy Warhols, but also by record producers and most people who have worked with him. Sadly he and his band members are also incapable of integrating with the real world. Newcombe picks fights with band members on stage or with members of the audience (getting arrested at one point for literally kicking in the head of a fan). Newcombe knows no limits \\xc2\\x96 he plays between 40 and 100 different instruments, writes and produces all BJM\\'s music, can produce enough songs to fill a whole album in a single day, has a prophet-like obsessiveness with his own musical genius, but is also a heavy drugs user, flies into rages at the slightest compromise of his own artistic integrity, orders his band members about as if they are lower forms of life, and can blow deals as fast as he makes them. BJM go through a large number of record labels in fast succession \\xc2\\x96 they sign them up as soon as they realise Newcombe\\'s talents and let them go as soon as they realise he is totally uncontrollable.<br /><br />The Warhols acknowledge their debt to Newcombe\\'s creativity and don\\'t even put themselves in the same exalted sphere of greatness \\xc2\\x96 but the Warhols have something that BJM don\\'t \\xc2\\x96 the ability to integrate their talents with common sense, the real world, and their market \\xc2\\x96 as a mixing pot of talent (even if much of it is distilled from guru Newcombe) and accessibility, they are the very definition of \\'cool.\\' DiG! follows the parallel careers of the two bands with increasing poignancy. At one point, Newcombe pulls stunts designed to generate publicity by sending apparent death threats and hate messages to the Warhols (in a box containing live ammunition and insults like a bar of soap \\'to clean up their act\\') \\xc2\\x96 only he forgets to tell them it\\'s a stunt and they get so paranoid they take out a restraining order against Newcombe. By the time the Dandy Warhols take off in Europe with hits like \\'Every Day Should Be A Holiday\\' and \\'Bohemian Like You\\', Newcombe is becoming increasingly isolated. BJM are stopped and the band breaks up when they are arrested for possession of marijuana \\xc2\\x96 the Warhols get busted for drugs around the same time, let off with a warning, and even allowed to keep the grass.<br /><br />The wider appeal of DiG! is that the lessons of genius versus accessibility go way beyond two bands or even rock music. The downside is that it is still a documentary, however intimate, and it will mostly only appeal to dedicated film fans or people who are already interested in the music of one or both of the featured bands. Newcombe may well be a largely unrecognised genius, and there are feint glimpses of this in the film, but to the unattuned ear there is little more than the assertions of the people interviewed to attest to this. In the words of one of the band members: \"In every spiritual tradition, you burn in hell for pretending to be God and not being able to back it up.\" Newcombe isn\\'t pretending \\xc2\\x96 but numerically there are maybe still insufficient people to appreciate him in his own lifetime, and DiG! has an uphill struggle to rectify the balance in favour of a tortured but largely unrecognised genius.'\n",
            " b\"I really liked this movie because I have a husband just like the guy in this movie. This movie is about Lindsey who meets Ben in the middle of winter when baseball season isn't in. She falls in love but when spring comes along, she gets the shock of her life when she is placed one step lower on her pedestal that Ben has put her on.<br /><br />It's a funny movie with all of the baseball obsession that Ben has. He can't part from what he loves the most, that's what makes it so funny and why so many women can relate to Lindsey in real life. Also the people he sits with at the baseball games are just as obsessed as he is.<br /><br />It's a funny movie and you won't strike out if you rent this one.\"\n",
            " b\"Every movie critic and metal head hated this movie but I enjoyed it. I saw this as a child on TV somewhere and was amazed by the scene where Sammi comes on stage and plays Trick or Treat by Fastway.<br /><br />The movie itself was typical 80's, guy gets pushed around by bullies and enlists supernatural help to beat up the bullies but goes to far and has to be destroyed.<br /><br />Matt from Melrose Place picks on Skippy from Family Ties so Skippy gets a record of Tony Fields from Gene Simmons to comfort him and all hell breaks lose, the highlight being where Tony sings (lip-synchs) and dances to a metal song before the shyt hits the fan.<br /><br />There were a lot of errors and stuff but the music and the overall imagery was enough to keep my fists pumping 8 out of 10\"\n",
            " b'Every now and again you hear radio djs inviting listeners to nominate movies that the listener can\\'t stand or never watched all the way through. This is the movie that I think of...days later.<br /><br />It\\'s got something to do with a play by Shakespeare. Not sure, but I think I bailed on this movie some 20 odd minutes into it...think I realised that my toenails wouldn\\'t clip themselves, and they were looking at me imploringly to get cut.<br /><br />This movie just seemed boring and pretentious to me.<br /><br />Even though this is the first movie I\\'ve given such a low score to (which I\\'ve actually attempted to watch), I wouldn\\'t want to put you off other movies by it\\'s English director, Peter Greenaway. I remember thinking that his \"The cook, the thief, his wife and her lover\" was a truly great British film even though its content was at times stomach churning-a brilliant movie, but I can understand why people would balk at seeing it.<br /><br />Another good film by Greenaway was \"A zed and two noughts\". Again, it had some content that pushed the boundaries of good taste, but was intriguing nonetheless.<br /><br />The other film that I usually think of too late for such radio show topics is \"Brazil\". Never managed to watch that all the way through either-kept falling asleep!<br /><br />Unless you have a taste for self-important movies which are off-puttingly highly stylised, laboriously paced and difficult to follow, then steer clear of Prosero\\'s Books.'\n",
            " b'A huge disappointment from writer Hamm and director Dante. Their previous collaboration on the first season\\'s \"Homecoming\" was twisted and darkly hilarious in all the right ways. This poor handling of an intriguing premise left me bewildered. The supposed \"payoff\" showing generic aliens extracting something from the brains of the infected psychopaths was completely unsatisfying and explained nothing. If the point of the story was an extraterrestrial \"cleaning\" of the planet of it\\'s human infestation, why did they go about it in such a gratuitously sadistic and misogynistic fashion? Why not just unleash a completely lethal virus a la Stephen King\\'s \"The Stand\" instead of having the male population butcher the females? I kept hoping the episode would improve as I kept watching but it just got more pretentious and preposterous. The religious subtext simply seemed forced but it was clear Sam Hamm must have thought it was profound by the weight he gave it. I like a lot of both Dante and Hamm\\'s work but this was just unwatchable.'\n",
            " b'Director Kevin Connor and wannabe action-hero / romantic lead Doug McClure, re-team in this ghost story set in Japan. They had been moderately successful together in the 1970\\'s, with the likes of \\'The Land that Time Forgot\\' (1975), \\'At the Earth\\'s Core\\' (1976) etc. Without plastic monsters to carry the narrative along though, the results are shabby and derivative in the most corny way.<br /><br />The film begins with a prologue set in the 19th Century, with a samurai husband killing his wife and her lover before committing suicide. A move forward to the present introduces married couple Ted & Laura, visiting Japan and moving in to the house where the tragedy took place.<br /><br />No surprises as to what happens next, with the spirits of the dead starting to take over the new inhabitants with family friend Alex (McClure) assuming the role of the wife\\'s lover.<br /><br />Everything rumbles clumsily along with the elegance and grace of a charging elephant, to an inevitable ( but surprisingly downbeat ) conclusion. Main points of interest are two feeble decapitations ( \\'The Omen\\' has a lot to answer for in promoting this as a standard horror set-piece ), and the love-making scenes featuring the doe-eyed but extremely kinky Susan George. The first is a long \\'Don\\'t Look Now\\' inspired piece with her hubby, complete with piano music; the second a much shorter (probably at her insistence) entanglement with McClure, both looking pretty uncomfortable. Anyway, every cloud has a silver lining and both scenes show of her fantastic knockers so all is not lost.<br /><br />Overall I can\\'t decide whether \\'The House where Evil Dwells\\' is rubbish, watchable rubbish, or entertaining in a masochistic kind of way. If you\\'re not into the genre there is nothing here at all, but for horror fans there is probably enough to provoke the odd rye smile and appreciative nod of respect for effort.<br /><br />BEST SCENE - in any other film the big, black, tree-climbing, Japanese-muttering mechanical crabs would have stolen the show. They are eclipsed though by the legendary family meal scene, where a ghostly head appears in the daughters soup. On seeing this apparition she asks what kind of soup it is (!!!!), to be told beef and vegetable, before uttering the immortal line \"Ugh - there\\'s an awful face in my soup\". If this wasn\\'t enough the reply is \"C\\'mon, eat your soup for Daddy.\" Laurel & Hardy rest in piece.'\n",
            " b\"This has got to be the best movie I've ever seen.<br /><br />Combine breathtaking cinematography with stunning acting and a gripping plot, and you have a masterpiece.<br /><br />Dog Bite Dog had me gripping the edge of my seat during some scenes, recoiling in horror during others, and left me drowning in my own tears after the tragic ending.<br /><br />The film left a deep impression on me. It's shockingly violent scenes contrasted sharply with the poignant and tender 'love' scenes. The film is undeserving of it's Cat III (nudity) rating; there are no nude scenes whatsoever, and the 'love' scenes do not even involve kissing or 'making out'.<br /><br />The message which this film presented to me? All human beings, no matter how violent or cruel they may seem, have a tender side. Edison Chen does a superb job playing the part of the murderous Pang.<br /><br />I rate this film 10/10. It's a must-watch.\"\n",
            " b\"It's been quite some time since I've watched this LOTR. I am currently hunting for a copy to purchase. Bakshi's work is quite true to the original work. The visuals are engrosing and sometimes haunting.<br /><br />Drawbacks? Occasionally, the movie is confusing or muddled. There are one or two times where the storyline slows to a crawl. But, overall -- buy this movie. It's great for kids, adults and collectors.\"\n",
            " b\"I was mad anyone made this movie. I was even more angry I lost valuable minutes of my life sitting still to watch this. I could have had a wax job and been more entertained. At least Cherri makes me laugh before it hurts. I was a bit confused at first but then I caught on and realized what was going on. By this time the film was half way through, and Yes I am a procrastinator but I always want to see things through until the end. So I stuck it out I watched it all. Not only are the actors not as attractive as in Cruel Intentions, they just aren't convincing. I've seen my nephew cry for attention more convincingly than the supposed lust portrayed on screen in this movie. If you like bad movies with bad acting watch this.\"\n",
            " b\"Any Way the Wind Blows is Tom Barmans (who is also know as front man of the rock formation 'dEUS') debut movie. Entirely shot in Antwerp (Belgium), the movie starts on a sunny friday morning and skips rather superficially between the events that fill the day of a dozen of main characters. When the movie ends, you have a lot of stuff to think about, because most of the different story-lines are left wide open.<br /><br />The movie has a (purely instrumental) sound track that will rock your socks off. In most scenes, the music truly enhances the general atmosphere and feel, really making the movie hallucinating to watch at certain points of time. The main scene in the film, the party, is very well shot.<br /><br />The director didn't hesitate to use video clip techniques, having his main characters dancing on one of the best sound tracks I've heard lately.<br /><br />The screenplay is great stuff. Camera angles and colors are very well chosen. The 'costumes' are very hot and very 'seventies' too. And I loved (most of the) acting.<br /><br />The thing I liked most about the movie, are the subtle touches of absurd, surreal, very dry or even cynical humor that interleave.<br /><br />Without claiming to be a comedy (this movie certainly is not a comedy but rather an alternative piece of art), it still manages to have its audience giggling and even burst into laughter at some times.<br /><br />This is one more directors' debut that shouldn't be an ending. I hope to see more Tom Barman movies in the future because I had a good time. Cheers.\"\n",
            " b'This is a film.., not porn.<br /><br />This is a wonderful film!!! Full of tender moments and memories!! A beautiful piece of work!!! Excellent!!! For intelligent, viewers only!!!<br /><br />If you are a film lover. A romantic. A person who has loved deeply, this is your film!!!!<br /><br />It has a beautiful surreal quality. Fine acting and directing. Watching this film made me remember my first love.<br /><br />Thi is a film for those who want to reflect on life, love and the meaning of loss.<br /><br />Highly recommended for all film lovers.'\n",
            " b\"Ira Levin's Deathtrap is one of those mystery films in the tradition of Sleuth that would be very easy to spoil given any real examination of the plot of the film. Therefore I will be brief in saying it concerns a play, one man who is a famous mystery playwright, another man who is a promising writer, the playwright's wife who is much younger and sexier than the role should have been, and one German psychic along for the ride. Director Sidney Lumet, no stranger to film, is quite good for the most part in creating the tension the film needs to motor on. The dialog is quick, fresh, and witty. Michael Caine excels in roles like these. Christopher Reeve is serviceable and actually grows on you the more you see him act. Irene Worth stands out as the funny psychic. How about Dyan Cannon? Love how Lumet packaged her posterior in those real tight-fitting pants and had her wear possibly the snuggest tops around, but she is terribly miscast in this role - a role which should have been given to an older actress and one certainly less seductive. But why quibble with an obvious attempt to bribe its male viewers when nothing will change it now? Deathtrap is funny, sophisticated, witty, and classy. The mystery has some glaring flaws which do detract somewhat, and I was not wholly satisfied with the ending, but watching Caine and Reeve under Lumet's direction with Levin's elevated verbiage was enough to ensnare my interest and keep it captive the entire length of the film.\"\n",
            " b\"It's like what other Dracula movies always do, the minions of Dracula always on Dracula's side, which is what disappointed me at the ending. Regardless the person wants to stay a vampire or not, I would like to see something like in the first movie that the minion fights against her master. It is much interesting (since you can almost predict how the story goes) than just either the priest or D. win the game (we need some surprising plots!).\"\n",
            " b'I picked this up at the video store because of Tarantino\\'s recommendation (\"If you don\\'t like (this), go f&^% yourself!\") on the box... seemed like a ringing endorsement.... I was expecting something a bit more like \"Death Proof\"... not much actual violence in this one tho, or plot, of character, or dialogue. <br /><br />Look at the poster. It\\'s all there. Stunts, and rock. It goes back and forth. A week or so in the life of an LA band that does a crappy magic show, at a level that you\\'d maybe see in one of the lesser casinos off the Strip, and an Aussie stuntman new in town finding his feet... They work, they meet girls, they party. End of story.<br /><br />The band obviously needed all that stuff because they are frankly second-tier, and playing a style that was already dated in 1978. It has to be said that the stunt bits in the film are genuinely spinetingling - that Aussie fellow really is something, and the film seems largely motivated by love and respect for the \"art\". I hung it there to see what crazy thing he\\'d do next. Just wish he could have found a better vehicle.'\n",
            " b\"I went into this movie after having read it was a drama about a man with a supernatural gift, who was made into a monster by society. Suffice to say I was expecting something entirely different from what I got. But it was a happy surprise. My friend and I both thought the movie was very romantic (the fact that the male lead isn't bad to look at surely helped), and there was enough plot development, action and even humor (the fact that it takes them until the 3rd part of the movie to now each other's name had the whole movietheatre laughing) to keep you entertained and invested in the story. So in short: Not what I expected, but a very good surprise indeed. I'll definitely buy this movie when it comes out on DVD.\"\n",
            " b\"Let me state at the outset that I have Cerebral Palsy and I went into this film expecting to have to make allowances for the lead performance. I left the theater half-convinced that they'd cast an actor who had Cerebral Palsy in the role, even though I knew that was not the case. The performances were generally excellent, with a special nod to Brenda Fricker and to Hugh O'Conner (I believe that's his name) as the young Christy Brown. Christy is talented, brash, arrogant, at times vulgar and petulant-in other words, human. This film, along with Gaby: A True Story and the documentary King Gimp, are excellent portrayals of life with CP. By no means a complete portrait, but fine examples of the disabled as human beings. Most highly recommended.\"\n",
            " b\"George Brent is a reporter sent to interview an heiress. She is supposedly the heir to a face cream fortune. He interviews her on her yacht. They fall for each other in bathing costumes.<br /><br />It turns out (quite early) that she is not an heiress. She part of an advertising campaign for the cold cream.<br /><br />The movie follows the ups and downs of their romance.<br /><br />The supporting cast does little to buoy it up. Davis and Brent carry the picture. Though it's fairly predictable, it is also fairly entertaining. It's far from her best. But, especially considering its obscurity in her oeuvre, it's not one of her worst, either.\"\n",
            " b'I saw an advanced screening for this movie tonight. I absolutely loved it. The movie kept me on the edge of my seat all night. Cillian Murphy is extremely creepy as the villain. For those of you who have seen Batman Begins, his character was much scarier in this film. He played his character very well. The scariest \"bad guy,\" I have seen in awhile. Rachel McAdams was great. Everyone in the audience laughed, gasped and cheered at the same time, as if we were on cue. The suspense is held through out the movie. THe amazing part is that the end was not anti-climatic. I was not disappointed in the end. I felt satisfied. The trailer does not do the movie justice. The movie is much better than the trailer indicated. Do not wait for this movie to come out on video. Go see it. Although, I did not have to pay to see this movie, I would have gladly given 10.75 to see it. Enjoy!']\n",
            "label:  [0 0 0 1 1 1 1 0 0 1 1 1 0 1 1 0 0 0 0 1 0 0 0 0 1 1 0 1 1 1 1 0 0 0 0 0 1\n",
            " 0 0 1 1 0 1 0 1 1 1 1 1 0 0 0 1 1 0 1 1 1 0 0 1 1 0 1]\n"
          ]
        }
      ],
      "source": [
        "# taking 1 random example from the training dataset\n",
        "for example, label in train_dataset.take(1):\n",
        "  print('text: ', example.numpy())\n",
        "  print('label: ', label.numpy())\n",
        "# label 0 indicates that the text is negative, label 1 is positive"
      ]
    },
    {
      "cell_type": "markdown",
      "metadata": {
        "id": "z2qVJzcEluH_"
      },
      "source": [
        "Next shuffle the data for training and create batches of these `(text, label)` pairs:"
      ]
    },
    {
      "cell_type": "code",
      "execution_count": 6,
      "metadata": {
        "id": "dDsCaZCDYZgm"
      },
      "outputs": [],
      "source": [
        "# the buffer size is the number of text we work with. This number is constant and a new text will be added when another is used to train the model\n",
        "# the batch size is the number of text we use at a time\n",
        "BUFFER_SIZE = 10000\n",
        "BATCH_SIZE = 64"
      ]
    },
    {
      "cell_type": "code",
      "execution_count": 7,
      "metadata": {
        "id": "VznrltNOnUc5"
      },
      "outputs": [],
      "source": [
        "# updating our training and test datasets in accordance to our buffer and batch sizes\n",
        "# also shuffling the dataset\n",
        "# prefetch tells the cpu how much memory the code takes\n",
        "train_dataset = train_dataset.shuffle(BUFFER_SIZE).batch(BATCH_SIZE).prefetch(tf.data.AUTOTUNE)\n",
        "test_dataset = test_dataset.batch(BATCH_SIZE).prefetch(tf.data.AUTOTUNE)"
      ]
    },
    {
      "cell_type": "code",
      "execution_count": 8,
      "metadata": {
        "id": "jqkvdcFv41wC"
      },
      "outputs": [
        {
          "name": "stderr",
          "output_type": "stream",
          "text": [
            "2023-03-15 10:14:00.119676: I tensorflow/core/common_runtime/executor.cc:1197] [/device:CPU:0] (DEBUG INFO) Executor start aborting (this does not indicate an error and you can ignore this message): INVALID_ARGUMENT: You must feed a value for placeholder tensor 'Placeholder/_4' with dtype int64 and shape [1]\n",
            "\t [[{{node Placeholder/_4}}]]\n",
            "2023-03-15 10:14:00.120304: I tensorflow/core/common_runtime/executor.cc:1197] [/device:CPU:0] (DEBUG INFO) Executor start aborting (this does not indicate an error and you can ignore this message): INVALID_ARGUMENT: You must feed a value for placeholder tensor 'Placeholder/_2' with dtype string and shape [1]\n",
            "\t [[{{node Placeholder/_2}}]]\n"
          ]
        },
        {
          "name": "stdout",
          "output_type": "stream",
          "text": [
            "texts:  [b\"For those who think it is strictly potty humor and immaturity, you are in fact the mindless one. While the show does contain its share of potty jokes it also contains a lot of satirical material and pokes fun at social problems, racial barriers, clich\\xc3\\xa9's,stereotypes etc. You just need to read into some of her material a bit more to get it.<br /><br />What I also love is that not everything is a punchline. For those expecting a formulated joke like Friends (I LOVE friends fyi), you won't find it here. Instead Sarah uses situations and other ways to achieve her humour which is more realistic. We don't walk around in this world and have witty punchlines for everything said, which is in most comedies. Instead the Sarah Silverman Program makes it more realistic in this sense. <br /><br />So don't take it as mindless humor because it is so much more than that.\"\n",
            " b'The Lion King 1 1/2 is a very cute story to go along with The Lion King. It basically follows the original story of The Lion King but with a couple of twists. In the movie,e vents are explained by a different characters point of view. This story is still an original plot.<br /><br />As far as sequels go, Disney isn\\'t all that great at making worthwhile ones. This one, being the third part to The Lion King (Simba\\'s Pride is the second.) actually has an original idea to it while still involving the fun of the first. Timon and Pumbaa travel along looking for the ideal place to live. After searching far and wide, they find the place of \"Hakuna Matata\". They then meet a small lion named Simba, and go through many things that parents today go through.<br /><br />I think this is a very good movie, and I\\'m happy to add it to my collection.'\n",
            " b'Late, great Grade Z drive-in exploitation filmmaker par excellence Al Adamson really outdoes himself with this gloriously ghastly sci-fi soft-core musical comedy atrocity which plumbs deliciously dismal and dopey depths in sheer celluloid silliness and jaw-dropping stupidity. In the grim totalitarian future of 2047 sex has been deemed an illegal act by the Big Brother-like impotent bumbling idiot the Controller (an amusingly goofy Erwin Fuller). However, sweet\\'n\\'sexy Cinderella (radiant blonde cutie pie Catherine Erhardt) remains determined to change things for the better. With the help of her effeminate Fairy Godfather (a flamboyantly campy Jay B. Larson), Cinderella attends a grand gala ball with the specific plan of seducing handsome stud Tom Prince (the dorky Vaughn Armstrong) and teaching everyone that making love is a positive, pleasurable and wholly acceptable activity.<br /><br />Adamson directs this ridiculous yarn with his customary all-thumbs incompetence, staging the incredibly awful\\'n\\'inept song and dance sequences with a totally sidesplitting lack of skill and flair. The uproariously abysmal \"We All Need Love\" number with people in absurd animal costumes awkwardly prancing about the forest is a hilariously horrendous marvel; ditto the equally abominable \"Mechnical Man\" routine featuring a bunch of clumsily cavorting robots. Louis Horvarth\\'s crude, static cinematography, the tacky plastic miniatures, Sparky Sugerman\\'s groovy throbbing disco score, the copious gratuitous nudity (ravishing brunette hottie Sherri Coyle warrants special praise in this particular department), the brain-numbingly puerile attempts at leering lowbrow humor (Roscoe the Robot law enforcer is especially irritating), and the uniformly terrible performances (Renee Harmon\\'s outrageously hammy portrayal of Cinderella\\'s wicked overbearing stepmother cops the big booby prize here) further enhance the strikingly abundant cheesiness to be savored in this delectably dreadful doozy.']\n",
            "\n",
            "labels:  [1 1 1]\n"
          ]
        },
        {
          "name": "stderr",
          "output_type": "stream",
          "text": [
            "2023-03-15 10:14:00.536063: W tensorflow/core/kernels/data/cache_dataset_ops.cc:856] The calling iterator did not fully read the dataset being cached. In order to avoid unexpected truncation of the dataset, the partially cached contents of the dataset  will be discarded. This can happen if you have an input pipeline similar to `dataset.cache().take(k).repeat()`. You should use `dataset.take(k).cache().repeat()` instead.\n"
          ]
        }
      ],
      "source": [
        "# taking 1 random example text in the training dataset after shuffling and new batch and buffer sizes\n",
        "for example, label in train_dataset.take(1):\n",
        "  print('texts: ', example.numpy()[:3])\n",
        "  print()\n",
        "  print('labels: ', label.numpy()[:3])"
      ]
    },
    {
      "cell_type": "markdown",
      "metadata": {
        "id": "s5eWCo88voPY"
      },
      "source": [
        "## Create the text encoder"
      ]
    },
    {
      "cell_type": "markdown",
      "metadata": {
        "id": "TFevcItw15P_"
      },
      "source": [
        "The raw text loaded by `tfds` needs to be processed before it can be used in a model. The simplest way to process text for training is using the `TextVectorization` layer. This layer has many capabilities, but this tutorial sticks to the default behavior.\n",
        "\n",
        "Create the layer, and pass the dataset's text to the layer's `.adapt` method:"
      ]
    },
    {
      "cell_type": "code",
      "execution_count": 9,
      "metadata": {
        "id": "uC25Lu1Yvuqy"
      },
      "outputs": [
        {
          "name": "stderr",
          "output_type": "stream",
          "text": [
            "2023-03-15 10:15:13.073667: I tensorflow/core/common_runtime/executor.cc:1197] [/device:CPU:0] (DEBUG INFO) Executor start aborting (this does not indicate an error and you can ignore this message): INVALID_ARGUMENT: You must feed a value for placeholder tensor 'Placeholder/_1' with dtype string and shape [1]\n",
            "\t [[{{node Placeholder/_1}}]]\n",
            "2023-03-15 10:15:13.074534: I tensorflow/core/common_runtime/executor.cc:1197] [/device:CPU:0] (DEBUG INFO) Executor start aborting (this does not indicate an error and you can ignore this message): INVALID_ARGUMENT: You must feed a value for placeholder tensor 'Placeholder/_4' with dtype int64 and shape [1]\n",
            "\t [[{{node Placeholder/_4}}]]\n"
          ]
        }
      ],
      "source": [
        "# setting the size of number of words and vectorizing these\n",
        "# the words are now represented numerically \n",
        "VOCAB_SIZE = 1000\n",
        "encoder = tf.keras.layers.TextVectorization(\n",
        "    max_tokens=VOCAB_SIZE)\n",
        "encoder.adapt(train_dataset.map(lambda text, label: text))"
      ]
    },
    {
      "cell_type": "markdown",
      "metadata": {
        "id": "IuQzVBbe3Ldu"
      },
      "source": [
        "The `.adapt` method sets the layer's vocabulary. Here are the first 20 tokens. After the padding and unknown tokens they're sorted by frequency: "
      ]
    },
    {
      "cell_type": "code",
      "execution_count": null,
      "metadata": {
        "id": "tBoyjjWg0Ac9"
      },
      "outputs": [
        {
          "data": {
            "text/plain": [
              "array(['', '[UNK]', 'the', 'and', 'a', 'of', 'to', 'is', 'in', 'it', 'i',\n",
              "       'this', 'that', 'br', 'was', 'as', 'for', 'with', 'movie', 'but'],\n",
              "      dtype='<U14')"
            ]
          },
          "execution_count": 17,
          "metadata": {},
          "output_type": "execute_result"
        }
      ],
      "source": [
        "# showing the first 20 tokens (most used)\n",
        "vocab = np.array(encoder.get_vocabulary())\n",
        "vocab[:20]"
      ]
    },
    {
      "cell_type": "markdown",
      "metadata": {
        "id": "mjId5pua3jHQ"
      },
      "source": [
        "Once the vocabulary is set, the layer can encode text into indices. The tensors of indices are 0-padded to the longest sequence in the batch (unless you set a fixed `output_sequence_length`):"
      ]
    },
    {
      "cell_type": "code",
      "execution_count": 18,
      "metadata": {
        "id": "RGc7C9WiwRWs"
      },
      "outputs": [
        {
          "data": {
            "text/plain": [
              "array([[387,  29,   5, ...,   0,   0,   0],\n",
              "       [  1,  49,  69, ...,   0,   0,   0],\n",
              "       [452,   1,  48, ...,   0,   0,   0]])"
            ]
          },
          "execution_count": 18,
          "metadata": {},
          "output_type": "execute_result"
        }
      ],
      "source": [
        "# take 3 examples from the text\n",
        "# the words are indexed and are represented numerically\n",
        "encoded_example = encoder(example)[:3].numpy()\n",
        "encoded_example"
      ]
    },
    {
      "cell_type": "markdown",
      "metadata": {
        "id": "F5cjz0bS39IN"
      },
      "source": [
        "With the default settings, the process is not completely reversible. There are three main reasons for that:\n",
        "\n",
        "1. The default value for `preprocessing.TextVectorization`'s `standardize` argument is `\"lower_and_strip_punctuation\"`.\n",
        "2. The limited vocabulary size and lack of character-based fallback results in some unknown tokens."
      ]
    },
    {
      "cell_type": "code",
      "execution_count": 19,
      "metadata": {
        "id": "N_tD0QY5wXaK"
      },
      "outputs": [
        {
          "name": "stdout",
          "output_type": "stream",
          "text": [
            "Original:  b'Definitely one of funny man Eddie Murphy\\'s lesser films is this nonsense about a kidnapped mystical child, three hundred year old dragons and a \"Chosen One\".<br /><br />Murphy is the \"Chosen One\" in question, and as the opening song suggests, he is \"the best man in the world\". A finder of lost and missing children, he is approached by a mysterious Tibetan woman (Charlotte Lewis) who tells him he is \"The Chosen One\", and that it is his destiny to find and rescue \"The Golden Child\". For if the child were to die, compassion would die with him, as he is the bearer of compassion.<br /><br />If all this hocus pocus rubbish hasn\\'t ruined it for you now, it surely will once the movie begins. Suffice to say the plot is abominable and destroys the whole film. Meant to be another vehicle for Murphy\\'s egotistical brand of humour (the comedy isn\\'t so great mind you), the movie fails on many levels. Even Charles Dance as the evil Sardo Numspa can\\'t do much for proceedings. Very silly and disappointing.<br /><br />Sunday, December 12, 1993 - T.V.'\n",
            "Round-trip:  definitely one of funny man [UNK] [UNK] [UNK] films is this [UNK] about a [UNK] [UNK] child three [UNK] year old [UNK] and a [UNK] [UNK] br [UNK] is the [UNK] one in question and as the opening song [UNK] he is the best man in the world a [UNK] of lost and missing children he is [UNK] by a [UNK] [UNK] woman [UNK] [UNK] who tells him he is the [UNK] one and that it is his [UNK] to find and [UNK] the [UNK] child for if the child were to die [UNK] would die with him as he is the [UNK] of [UNK] br if all this [UNK] [UNK] [UNK] [UNK] [UNK] it for you now it [UNK] will once the movie begins [UNK] to say the plot is [UNK] and [UNK] the whole film meant to be another [UNK] for [UNK] [UNK] [UNK] of [UNK] the comedy isnt so great mind you the movie fails on many [UNK] even [UNK] dance as the evil [UNK] [UNK] cant do much for [UNK] very silly and [UNK] br [UNK] [UNK] [UNK] [UNK] tv                                                                                                                                                                                                                                                                                                                                                                                                                                                                                                                                                                                                                                                                                                                                                                                                                                                                                                                                   \n",
            "\n",
            "Original:  b'Wow, what can I say about this film? It\\'s a lousy piece of crap. I\\'m surprised that it got rated as high as it did. What\\'s wrong with this film? Here\\'s a better question: What\\'s NOT wrong with this film.<br /><br />The story itself is just crap and clich\\xc3\\xa9. Here\\'s pretty much what it\\'s about...Some kinda nerdy kid with no friends gets picked on, gets killed, and comes back as a scarecrow for revenge. \"All\" of that is packed into 86 minutes of worthless film. If you haven\\'t seen this movie don\\'t waste your time watching it. Also, the second one isn\\'t much better, so don\\'t bother watching that either...I rated this movie a three because I liked the scarecrow\\'s outfit, not because there was anything good about the movie. I think you get the picture.'\n",
            "Round-trip:  [UNK] what can i say about this film its a [UNK] piece of crap im surprised that it got [UNK] as high as it did whats wrong with this film [UNK] a better question whats not wrong with this filmbr br the story itself is just crap and [UNK] [UNK] pretty much what its [UNK] [UNK] [UNK] kid with no friends gets [UNK] on gets killed and comes back as a [UNK] for [UNK] all of that is [UNK] into [UNK] minutes of [UNK] film if you havent seen this movie dont waste your time watching it also the second one isnt much better so dont [UNK] watching that [UNK] [UNK] this movie a three because i liked the [UNK] [UNK] not because there was anything good about the movie i think you get the picture                                                                                                                                                                                                                                                                                                                                                                                                                                                                                                                                                                                                                                                                                                                                                                                                                                                                                                                                                                                   \n",
            "\n",
            "Original:  b\"Oh Geez... There are so many other films I want to see out there... I got stuck with my nephew for the weekend and this is what he wanted - Yeah...<br /><br />I used to watch this show when I was in college...it was mindless, kinda fun, and somewhat action-oriented. The show had a good heart tho...and the characters were cute; no one ever got killed or even hurt badly... it was like a cartoon come to life. Cut to 2005...What happened? This one doesn't work. As others have said, there simply isn't a cohesive story and the performances are weird...almost annoying - definitely not faithful to the original characters...the whole thing is a like a Mad TV skit and it lasts over 100 minutes! This was one of the few times I've been EMBARRASSED watching a film. What were they thinking? As best I can tell, must've been for the product marketing, toys, etc. All I can say is, let this one die a quick death. It makes the original Dukes of Hazzard seem like Masterpiece Theater...<br /><br />I think the only remake left to do from TV is Gilligan's Island... Good Luck!\"\n",
            "Round-trip:  oh [UNK] there are so many other films i want to see out there i got [UNK] with my [UNK] for the [UNK] and this is what he wanted [UNK] br i used to watch this show when i was in [UNK] was [UNK] [UNK] fun and somewhat [UNK] the show had a good heart [UNK] the characters were [UNK] no one ever got killed or even [UNK] badly it was like a [UNK] come to life cut to [UNK] happened this one doesnt work as others have said there simply isnt a [UNK] story and the performances are [UNK] annoying definitely not [UNK] to the original [UNK] whole thing is a like a [UNK] tv [UNK] and it [UNK] over [UNK] minutes this was one of the few times ive been [UNK] watching a film what were they thinking as best i can tell [UNK] been for the [UNK] [UNK] [UNK] etc all i can say is let this one die a [UNK] death it makes the original [UNK] of [UNK] seem like [UNK] [UNK] br i think the only remake left to do from tv is [UNK] [UNK] good [UNK]                                                                                                                                                                                                                                                                                                                                                                                                                                                                                                                                                                                                                                                                                                                                                                                                                                                                                                                           \n",
            "\n"
          ]
        }
      ],
      "source": [
        "# example of words which are now unknown to the model\n",
        "for n in range(3):\n",
        "  print(\"Original: \", example[n].numpy())\n",
        "  print(\"Round-trip: \", \" \".join(vocab[encoded_example[n]]))\n",
        "  print()"
      ]
    },
    {
      "cell_type": "markdown",
      "metadata": {
        "id": "bjUqGVBxGw-t"
      },
      "source": [
        "## Create the model"
      ]
    },
    {
      "cell_type": "markdown",
      "metadata": {
        "id": "W7zsmInBOCPO"
      },
      "source": [
        "![A drawing of the information flow in the model](images/bidirectional.png)"
      ]
    },
    {
      "cell_type": "markdown",
      "metadata": {
        "id": "bgs6nnSTGw-t"
      },
      "source": [
        "Above is a diagram of the model. \n",
        "\n",
        "1. This model can be build as a `tf.keras.Sequential`.\n",
        "\n",
        "2. The first layer is the `encoder`, which converts the text to a sequence of token indices.\n",
        "\n",
        "3. After the encoder is an embedding layer. An embedding layer stores one vector per word. When called, it converts the sequences of word indices to sequences of vectors. These vectors are trainable. After training (on enough data), words with similar meanings often have similar vectors.\n",
        "\n",
        "  This index-lookup is much more efficient than the equivalent operation of passing a one-hot encoded vector through a `tf.keras.layers.Dense` layer.\n",
        "\n",
        "4. A recurrent neural network (RNN) processes sequence input by iterating through the elements. RNNs pass the outputs from one timestep to their input on the next timestep.\n",
        "\n",
        "  The `tf.keras.layers.Bidirectional` wrapper can also be used with an RNN layer. This propagates the input forward and backwards through the RNN layer and then concatenates the final output. \n",
        "\n",
        "  * The main advantage of a bidirectional RNN is that the signal from the beginning of the input doesn't need to be processed all the way through every timestep to affect the output.  \n",
        "\n",
        "  * The main disadvantage of a bidirectional RNN is that you can't efficiently stream predictions as words are being added to the end.\n",
        "\n",
        "5. After the RNN has converted the sequence to a single vector the two `layers.Dense` do some final processing, and convert from this vector representation to a single logit as the classification output. \n"
      ]
    },
    {
      "cell_type": "markdown",
      "metadata": {
        "id": "V4fodCI7soQi"
      },
      "source": [
        "The code to implement this is below:"
      ]
    },
    {
      "cell_type": "code",
      "execution_count": 20,
      "metadata": {
        "id": "LwfoBkmRYcP3"
      },
      "outputs": [],
      "source": [
        "# buidling the RNN model\n",
        "model = tf.keras.Sequential([ # defining the model\n",
        "    encoder, # convert text to token indices\n",
        "    tf.keras.layers.Embedding( # embedding/storing one vector per word\n",
        "        input_dim=len(encoder.get_vocabulary()),\n",
        "        output_dim=64,\n",
        "        # Use masking to handle the variable sequence lengths\n",
        "        mask_zero=True),\n",
        "    tf.keras.layers.Bidirectional(tf.keras.layers.LSTM(64)), # propagating input forwards and backwards\n",
        "    tf.keras.layers.Dense(64, activation='relu'),\n",
        "    tf.keras.layers.Dense(1)\n",
        "])"
      ]
    },
    {
      "cell_type": "markdown",
      "metadata": {
        "id": "QIGmIGkkouUb"
      },
      "source": [
        "Please note that Keras sequential model is used here since all the layers in the model only have single input and produce single output. In case you want to use stateful RNN layer, you might want to build your model with Keras functional API or model subclassing so that you can retrieve and reuse the RNN layer states. Please check [Keras RNN guide](https://www.tensorflow.org/guide/keras/rnn#rnn_state_reuse) for more details."
      ]
    },
    {
      "cell_type": "markdown",
      "metadata": {
        "id": "kF-PsCk1LwjY"
      },
      "source": [
        "The embedding layer [uses masking](https://www.tensorflow.org/guide/keras/masking_and_padding) to handle the varying sequence-lengths. All the layers after the `Embedding` support masking:"
      ]
    },
    {
      "cell_type": "code",
      "execution_count": 21,
      "metadata": {
        "id": "87a8-CwfKebw"
      },
      "outputs": [
        {
          "name": "stdout",
          "output_type": "stream",
          "text": [
            "[False, True, True, True, True]\n"
          ]
        }
      ],
      "source": [
        "print([layer.supports_masking for layer in model.layers])"
      ]
    },
    {
      "cell_type": "markdown",
      "metadata": {
        "id": "ZlS0iaUIWLpI"
      },
      "source": [
        "To confirm that this works as expected, evaluate a sentence twice. First, alone so there's no padding to mask:"
      ]
    },
    {
      "cell_type": "code",
      "execution_count": 22,
      "metadata": {
        "id": "O41gw3KfWHus"
      },
      "outputs": [
        {
          "name": "stdout",
          "output_type": "stream",
          "text": [
            "1/1 [==============================] - 4s 4s/step\n",
            "[-0.01057928]\n"
          ]
        }
      ],
      "source": [
        "# predict on a sample text without padding.\n",
        "sample_text = ('The movie was cool. The animation and the graphics '\n",
        "               'were out of this world. I would recommend this movie.')\n",
        "predictions = model.predict(np.array([sample_text]))\n",
        "print(predictions[0])\n",
        "# the prediction is negative (-0.0105)"
      ]
    },
    {
      "cell_type": "markdown",
      "metadata": {
        "id": "K0VQmGnEWcuz"
      },
      "source": [
        "Now, evaluate it again in a batch with a longer sentence. The result should be identical:"
      ]
    },
    {
      "cell_type": "code",
      "execution_count": 23,
      "metadata": {
        "id": "UIgpuTeFNDzq"
      },
      "outputs": [
        {
          "name": "stdout",
          "output_type": "stream",
          "text": [
            "1/1 [==============================] - 0s 209ms/step\n",
            "[-0.01057928]\n"
          ]
        }
      ],
      "source": [
        "# predict on a sample text with padding\n",
        "padding = \"the \" * 2000\n",
        "predictions = model.predict(np.array([sample_text, padding]))\n",
        "print(predictions[0])\n",
        "# same result as above"
      ]
    },
    {
      "cell_type": "markdown",
      "metadata": {
        "id": "sRI776ZcH3Tf"
      },
      "source": [
        "Compile the Keras model to configure the training process:"
      ]
    },
    {
      "cell_type": "code",
      "execution_count": 24,
      "metadata": {
        "id": "kj2xei41YZjC"
      },
      "outputs": [],
      "source": [
        "# compiling Keras model to configure training proces\n",
        "model.compile(loss=tf.keras.losses.BinaryCrossentropy(from_logits=True),\n",
        "              optimizer=tf.keras.optimizers.Adam(1e-4),\n",
        "              metrics=['accuracy'])"
      ]
    },
    {
      "cell_type": "markdown",
      "metadata": {
        "id": "zIwH3nto596k"
      },
      "source": [
        "## Train the model"
      ]
    },
    {
      "cell_type": "code",
      "execution_count": 27,
      "metadata": {
        "id": "hw86wWS4YgR2"
      },
      "outputs": [
        {
          "name": "stdout",
          "output_type": "stream",
          "text": [
            "Epoch 1/10\n"
          ]
        },
        {
          "ename": "KeyboardInterrupt",
          "evalue": "",
          "output_type": "error",
          "traceback": [
            "\u001b[0;31m---------------------------------------------------------------------------\u001b[0m",
            "\u001b[0;31mKeyboardInterrupt\u001b[0m                         Traceback (most recent call last)",
            "Cell \u001b[0;32mIn[27], line 2\u001b[0m\n\u001b[1;32m      1\u001b[0m \u001b[39m# training the model and creating its history\u001b[39;00m\n\u001b[0;32m----> 2\u001b[0m history \u001b[39m=\u001b[39m model\u001b[39m.\u001b[39;49mfit(train_dataset, epochs\u001b[39m=\u001b[39;49m\u001b[39m10\u001b[39;49m,\n\u001b[1;32m      3\u001b[0m                     validation_data\u001b[39m=\u001b[39;49mtest_dataset,\n\u001b[1;32m      4\u001b[0m                     validation_steps\u001b[39m=\u001b[39;49m\u001b[39m30\u001b[39;49m)\n",
            "File \u001b[0;32m/Library/Frameworks/Python.framework/Versions/3.11/lib/python3.11/site-packages/keras/utils/traceback_utils.py:65\u001b[0m, in \u001b[0;36mfilter_traceback.<locals>.error_handler\u001b[0;34m(*args, **kwargs)\u001b[0m\n\u001b[1;32m     63\u001b[0m filtered_tb \u001b[39m=\u001b[39m \u001b[39mNone\u001b[39;00m\n\u001b[1;32m     64\u001b[0m \u001b[39mtry\u001b[39;00m:\n\u001b[0;32m---> 65\u001b[0m     \u001b[39mreturn\u001b[39;00m fn(\u001b[39m*\u001b[39;49margs, \u001b[39m*\u001b[39;49m\u001b[39m*\u001b[39;49mkwargs)\n\u001b[1;32m     66\u001b[0m \u001b[39mexcept\u001b[39;00m \u001b[39mException\u001b[39;00m \u001b[39mas\u001b[39;00m e:\n\u001b[1;32m     67\u001b[0m     filtered_tb \u001b[39m=\u001b[39m _process_traceback_frames(e\u001b[39m.\u001b[39m__traceback__)\n",
            "File \u001b[0;32m/Library/Frameworks/Python.framework/Versions/3.11/lib/python3.11/site-packages/keras/engine/training.py:1685\u001b[0m, in \u001b[0;36mModel.fit\u001b[0;34m(self, x, y, batch_size, epochs, verbose, callbacks, validation_split, validation_data, shuffle, class_weight, sample_weight, initial_epoch, steps_per_epoch, validation_steps, validation_batch_size, validation_freq, max_queue_size, workers, use_multiprocessing)\u001b[0m\n\u001b[1;32m   1677\u001b[0m \u001b[39mwith\u001b[39;00m tf\u001b[39m.\u001b[39mprofiler\u001b[39m.\u001b[39mexperimental\u001b[39m.\u001b[39mTrace(\n\u001b[1;32m   1678\u001b[0m     \u001b[39m\"\u001b[39m\u001b[39mtrain\u001b[39m\u001b[39m\"\u001b[39m,\n\u001b[1;32m   1679\u001b[0m     epoch_num\u001b[39m=\u001b[39mepoch,\n\u001b[0;32m   (...)\u001b[0m\n\u001b[1;32m   1682\u001b[0m     _r\u001b[39m=\u001b[39m\u001b[39m1\u001b[39m,\n\u001b[1;32m   1683\u001b[0m ):\n\u001b[1;32m   1684\u001b[0m     callbacks\u001b[39m.\u001b[39mon_train_batch_begin(step)\n\u001b[0;32m-> 1685\u001b[0m     tmp_logs \u001b[39m=\u001b[39m \u001b[39mself\u001b[39;49m\u001b[39m.\u001b[39;49mtrain_function(iterator)\n\u001b[1;32m   1686\u001b[0m     \u001b[39mif\u001b[39;00m data_handler\u001b[39m.\u001b[39mshould_sync:\n\u001b[1;32m   1687\u001b[0m         context\u001b[39m.\u001b[39masync_wait()\n",
            "File \u001b[0;32m/Library/Frameworks/Python.framework/Versions/3.11/lib/python3.11/site-packages/tensorflow/python/util/traceback_utils.py:150\u001b[0m, in \u001b[0;36mfilter_traceback.<locals>.error_handler\u001b[0;34m(*args, **kwargs)\u001b[0m\n\u001b[1;32m    148\u001b[0m filtered_tb \u001b[39m=\u001b[39m \u001b[39mNone\u001b[39;00m\n\u001b[1;32m    149\u001b[0m \u001b[39mtry\u001b[39;00m:\n\u001b[0;32m--> 150\u001b[0m   \u001b[39mreturn\u001b[39;00m fn(\u001b[39m*\u001b[39;49margs, \u001b[39m*\u001b[39;49m\u001b[39m*\u001b[39;49mkwargs)\n\u001b[1;32m    151\u001b[0m \u001b[39mexcept\u001b[39;00m \u001b[39mException\u001b[39;00m \u001b[39mas\u001b[39;00m e:\n\u001b[1;32m    152\u001b[0m   filtered_tb \u001b[39m=\u001b[39m _process_traceback_frames(e\u001b[39m.\u001b[39m__traceback__)\n",
            "File \u001b[0;32m/Library/Frameworks/Python.framework/Versions/3.11/lib/python3.11/site-packages/tensorflow/python/eager/polymorphic_function/polymorphic_function.py:894\u001b[0m, in \u001b[0;36mFunction.__call__\u001b[0;34m(self, *args, **kwds)\u001b[0m\n\u001b[1;32m    891\u001b[0m compiler \u001b[39m=\u001b[39m \u001b[39m\"\u001b[39m\u001b[39mxla\u001b[39m\u001b[39m\"\u001b[39m \u001b[39mif\u001b[39;00m \u001b[39mself\u001b[39m\u001b[39m.\u001b[39m_jit_compile \u001b[39melse\u001b[39;00m \u001b[39m\"\u001b[39m\u001b[39mnonXla\u001b[39m\u001b[39m\"\u001b[39m\n\u001b[1;32m    893\u001b[0m \u001b[39mwith\u001b[39;00m OptionalXlaContext(\u001b[39mself\u001b[39m\u001b[39m.\u001b[39m_jit_compile):\n\u001b[0;32m--> 894\u001b[0m   result \u001b[39m=\u001b[39m \u001b[39mself\u001b[39;49m\u001b[39m.\u001b[39;49m_call(\u001b[39m*\u001b[39;49margs, \u001b[39m*\u001b[39;49m\u001b[39m*\u001b[39;49mkwds)\n\u001b[1;32m    896\u001b[0m new_tracing_count \u001b[39m=\u001b[39m \u001b[39mself\u001b[39m\u001b[39m.\u001b[39mexperimental_get_tracing_count()\n\u001b[1;32m    897\u001b[0m without_tracing \u001b[39m=\u001b[39m (tracing_count \u001b[39m==\u001b[39m new_tracing_count)\n",
            "File \u001b[0;32m/Library/Frameworks/Python.framework/Versions/3.11/lib/python3.11/site-packages/tensorflow/python/eager/polymorphic_function/polymorphic_function.py:926\u001b[0m, in \u001b[0;36mFunction._call\u001b[0;34m(self, *args, **kwds)\u001b[0m\n\u001b[1;32m    923\u001b[0m   \u001b[39mself\u001b[39m\u001b[39m.\u001b[39m_lock\u001b[39m.\u001b[39mrelease()\n\u001b[1;32m    924\u001b[0m   \u001b[39m# In this case we have created variables on the first call, so we run the\u001b[39;00m\n\u001b[1;32m    925\u001b[0m   \u001b[39m# defunned version which is guaranteed to never create variables.\u001b[39;00m\n\u001b[0;32m--> 926\u001b[0m   \u001b[39mreturn\u001b[39;00m \u001b[39mself\u001b[39;49m\u001b[39m.\u001b[39;49m_no_variable_creation_fn(\u001b[39m*\u001b[39;49margs, \u001b[39m*\u001b[39;49m\u001b[39m*\u001b[39;49mkwds)  \u001b[39m# pylint: disable=not-callable\u001b[39;00m\n\u001b[1;32m    927\u001b[0m \u001b[39melif\u001b[39;00m \u001b[39mself\u001b[39m\u001b[39m.\u001b[39m_variable_creation_fn \u001b[39mis\u001b[39;00m \u001b[39mnot\u001b[39;00m \u001b[39mNone\u001b[39;00m:\n\u001b[1;32m    928\u001b[0m   \u001b[39m# Release the lock early so that multiple threads can perform the call\u001b[39;00m\n\u001b[1;32m    929\u001b[0m   \u001b[39m# in parallel.\u001b[39;00m\n\u001b[1;32m    930\u001b[0m   \u001b[39mself\u001b[39m\u001b[39m.\u001b[39m_lock\u001b[39m.\u001b[39mrelease()\n",
            "File \u001b[0;32m/Library/Frameworks/Python.framework/Versions/3.11/lib/python3.11/site-packages/tensorflow/python/eager/polymorphic_function/tracing_compiler.py:143\u001b[0m, in \u001b[0;36mTracingCompiler.__call__\u001b[0;34m(self, *args, **kwargs)\u001b[0m\n\u001b[1;32m    140\u001b[0m \u001b[39mwith\u001b[39;00m \u001b[39mself\u001b[39m\u001b[39m.\u001b[39m_lock:\n\u001b[1;32m    141\u001b[0m   (concrete_function,\n\u001b[1;32m    142\u001b[0m    filtered_flat_args) \u001b[39m=\u001b[39m \u001b[39mself\u001b[39m\u001b[39m.\u001b[39m_maybe_define_function(args, kwargs)\n\u001b[0;32m--> 143\u001b[0m \u001b[39mreturn\u001b[39;00m concrete_function\u001b[39m.\u001b[39;49m_call_flat(\n\u001b[1;32m    144\u001b[0m     filtered_flat_args, captured_inputs\u001b[39m=\u001b[39;49mconcrete_function\u001b[39m.\u001b[39;49mcaptured_inputs)\n",
            "File \u001b[0;32m/Library/Frameworks/Python.framework/Versions/3.11/lib/python3.11/site-packages/tensorflow/python/eager/polymorphic_function/monomorphic_function.py:1757\u001b[0m, in \u001b[0;36mConcreteFunction._call_flat\u001b[0;34m(self, args, captured_inputs, cancellation_manager)\u001b[0m\n\u001b[1;32m   1753\u001b[0m possible_gradient_type \u001b[39m=\u001b[39m gradients_util\u001b[39m.\u001b[39mPossibleTapeGradientTypes(args)\n\u001b[1;32m   1754\u001b[0m \u001b[39mif\u001b[39;00m (possible_gradient_type \u001b[39m==\u001b[39m gradients_util\u001b[39m.\u001b[39mPOSSIBLE_GRADIENT_TYPES_NONE\n\u001b[1;32m   1755\u001b[0m     \u001b[39mand\u001b[39;00m executing_eagerly):\n\u001b[1;32m   1756\u001b[0m   \u001b[39m# No tape is watching; skip to running the function.\u001b[39;00m\n\u001b[0;32m-> 1757\u001b[0m   \u001b[39mreturn\u001b[39;00m \u001b[39mself\u001b[39m\u001b[39m.\u001b[39m_build_call_outputs(\u001b[39mself\u001b[39;49m\u001b[39m.\u001b[39;49m_inference_function\u001b[39m.\u001b[39;49mcall(\n\u001b[1;32m   1758\u001b[0m       ctx, args, cancellation_manager\u001b[39m=\u001b[39;49mcancellation_manager))\n\u001b[1;32m   1759\u001b[0m forward_backward \u001b[39m=\u001b[39m \u001b[39mself\u001b[39m\u001b[39m.\u001b[39m_select_forward_and_backward_functions(\n\u001b[1;32m   1760\u001b[0m     args,\n\u001b[1;32m   1761\u001b[0m     possible_gradient_type,\n\u001b[1;32m   1762\u001b[0m     executing_eagerly)\n\u001b[1;32m   1763\u001b[0m forward_function, args_with_tangents \u001b[39m=\u001b[39m forward_backward\u001b[39m.\u001b[39mforward()\n",
            "File \u001b[0;32m/Library/Frameworks/Python.framework/Versions/3.11/lib/python3.11/site-packages/tensorflow/python/eager/polymorphic_function/monomorphic_function.py:381\u001b[0m, in \u001b[0;36m_EagerDefinedFunction.call\u001b[0;34m(self, ctx, args, cancellation_manager)\u001b[0m\n\u001b[1;32m    379\u001b[0m \u001b[39mwith\u001b[39;00m _InterpolateFunctionError(\u001b[39mself\u001b[39m):\n\u001b[1;32m    380\u001b[0m   \u001b[39mif\u001b[39;00m cancellation_manager \u001b[39mis\u001b[39;00m \u001b[39mNone\u001b[39;00m:\n\u001b[0;32m--> 381\u001b[0m     outputs \u001b[39m=\u001b[39m execute\u001b[39m.\u001b[39;49mexecute(\n\u001b[1;32m    382\u001b[0m         \u001b[39mstr\u001b[39;49m(\u001b[39mself\u001b[39;49m\u001b[39m.\u001b[39;49msignature\u001b[39m.\u001b[39;49mname),\n\u001b[1;32m    383\u001b[0m         num_outputs\u001b[39m=\u001b[39;49m\u001b[39mself\u001b[39;49m\u001b[39m.\u001b[39;49m_num_outputs,\n\u001b[1;32m    384\u001b[0m         inputs\u001b[39m=\u001b[39;49margs,\n\u001b[1;32m    385\u001b[0m         attrs\u001b[39m=\u001b[39;49mattrs,\n\u001b[1;32m    386\u001b[0m         ctx\u001b[39m=\u001b[39;49mctx)\n\u001b[1;32m    387\u001b[0m   \u001b[39melse\u001b[39;00m:\n\u001b[1;32m    388\u001b[0m     outputs \u001b[39m=\u001b[39m execute\u001b[39m.\u001b[39mexecute_with_cancellation(\n\u001b[1;32m    389\u001b[0m         \u001b[39mstr\u001b[39m(\u001b[39mself\u001b[39m\u001b[39m.\u001b[39msignature\u001b[39m.\u001b[39mname),\n\u001b[1;32m    390\u001b[0m         num_outputs\u001b[39m=\u001b[39m\u001b[39mself\u001b[39m\u001b[39m.\u001b[39m_num_outputs,\n\u001b[0;32m   (...)\u001b[0m\n\u001b[1;32m    393\u001b[0m         ctx\u001b[39m=\u001b[39mctx,\n\u001b[1;32m    394\u001b[0m         cancellation_manager\u001b[39m=\u001b[39mcancellation_manager)\n",
            "File \u001b[0;32m/Library/Frameworks/Python.framework/Versions/3.11/lib/python3.11/site-packages/tensorflow/python/eager/execute.py:52\u001b[0m, in \u001b[0;36mquick_execute\u001b[0;34m(op_name, num_outputs, inputs, attrs, ctx, name)\u001b[0m\n\u001b[1;32m     50\u001b[0m \u001b[39mtry\u001b[39;00m:\n\u001b[1;32m     51\u001b[0m   ctx\u001b[39m.\u001b[39mensure_initialized()\n\u001b[0;32m---> 52\u001b[0m   tensors \u001b[39m=\u001b[39m pywrap_tfe\u001b[39m.\u001b[39;49mTFE_Py_Execute(ctx\u001b[39m.\u001b[39;49m_handle, device_name, op_name,\n\u001b[1;32m     53\u001b[0m                                       inputs, attrs, num_outputs)\n\u001b[1;32m     54\u001b[0m \u001b[39mexcept\u001b[39;00m core\u001b[39m.\u001b[39m_NotOkStatusException \u001b[39mas\u001b[39;00m e:\n\u001b[1;32m     55\u001b[0m   \u001b[39mif\u001b[39;00m name \u001b[39mis\u001b[39;00m \u001b[39mnot\u001b[39;00m \u001b[39mNone\u001b[39;00m:\n",
            "\u001b[0;31mKeyboardInterrupt\u001b[0m: "
          ]
        }
      ],
      "source": [
        "# training the model and creating its history\n",
        "history = model.fit(train_dataset, epochs=10,\n",
        "                    validation_data=test_dataset,\n",
        "                    validation_steps=30)"
      ]
    },
    {
      "cell_type": "code",
      "execution_count": null,
      "metadata": {
        "id": "BaNbXi43YgUT"
      },
      "outputs": [],
      "source": [
        "# creating test loss and accuracy based on the test dataset\n",
        "test_loss, test_acc = model.evaluate(test_dataset)\n",
        "\n",
        "print('Test Loss:', test_loss)\n",
        "print('Test Accuracy:', test_acc)"
      ]
    },
    {
      "cell_type": "code",
      "execution_count": null,
      "metadata": {
        "id": "OZmwt_mzaQJk"
      },
      "outputs": [],
      "source": [
        "# plotting accuracy and loss for training and validation \n",
        "plt.figure(figsize=(16, 8))\n",
        "plt.subplot(1, 2, 1)\n",
        "plot_graphs(history, 'accuracy')\n",
        "plt.ylim(None, 1)\n",
        "plt.subplot(1, 2, 2)\n",
        "plot_graphs(history, 'loss')\n",
        "plt.ylim(0, None)"
      ]
    },
    {
      "cell_type": "markdown",
      "metadata": {
        "id": "DwSE_386uhxD"
      },
      "source": [
        "Run a prediction on a new sentence:\n",
        "\n",
        "If the prediction is >= 0.0, it is positive else it is negative."
      ]
    },
    {
      "cell_type": "code",
      "execution_count": null,
      "metadata": {
        "id": "ZXgfQSgRW6zU"
      },
      "outputs": [],
      "source": [
        "# using the model to predict new examples\n",
        "sample_text = ('The movie was cool. The animation and the graphics '\n",
        "               'were out of this world. I would recommend this movie.')\n",
        "predictions = model.predict(np.array([sample_text]))\n",
        "predictions"
      ]
    },
    {
      "cell_type": "markdown",
      "metadata": {
        "id": "7g1evcaRpTKm"
      },
      "source": [
        "## Stack two or more LSTM layers\n",
        "\n",
        "Keras recurrent layers have two available modes that are controlled by the `return_sequences` constructor argument:\n",
        "\n",
        "* If `False` it returns only the last output for each input sequence (a 2D tensor of shape (batch_size, output_features)). This is the default, used in the previous model.\n",
        "\n",
        "* If `True` the full sequences of successive outputs for each timestep is returned (a 3D tensor of shape `(batch_size, timesteps, output_features)`).\n",
        "\n",
        "Here is what the flow of information looks like with `return_sequences=True`:\n",
        "\n",
        "![layered_bidirectional](images/layered_bidirectional.png)"
      ]
    },
    {
      "cell_type": "markdown",
      "metadata": {
        "id": "wbSClCrG1z8l"
      },
      "source": [
        "The interesting thing about using an `RNN` with `return_sequences=True` is that the output still has 3-axes, like the input, so it can be passed to another RNN layer, like this:"
      ]
    },
    {
      "cell_type": "code",
      "execution_count": null,
      "metadata": {
        "id": "jo1jjO3vn0jo"
      },
      "outputs": [],
      "source": [
        "model = tf.keras.Sequential([\n",
        "    encoder,\n",
        "    tf.keras.layers.Embedding(len(encoder.get_vocabulary()), 64, mask_zero=True),\n",
        "    tf.keras.layers.Bidirectional(tf.keras.layers.LSTM(64,  return_sequences=True)),\n",
        "    tf.keras.layers.Bidirectional(tf.keras.layers.LSTM(32)),\n",
        "    tf.keras.layers.Dense(64, activation='relu'),\n",
        "    tf.keras.layers.Dropout(0.5),\n",
        "    tf.keras.layers.Dense(1)\n",
        "])"
      ]
    },
    {
      "cell_type": "code",
      "execution_count": null,
      "metadata": {
        "id": "hEPV5jVGp-is"
      },
      "outputs": [],
      "source": [
        "model.compile(loss=tf.keras.losses.BinaryCrossentropy(from_logits=True),\n",
        "              optimizer=tf.keras.optimizers.Adam(1e-4),\n",
        "              metrics=['accuracy'])"
      ]
    },
    {
      "cell_type": "code",
      "execution_count": null,
      "metadata": {
        "id": "LeSE-YjdqAeN"
      },
      "outputs": [],
      "source": [
        "history = model.fit(train_dataset, epochs=10,\n",
        "                    validation_data=test_dataset,\n",
        "                    validation_steps=30)"
      ]
    },
    {
      "cell_type": "code",
      "execution_count": null,
      "metadata": {
        "id": "_LdwilM1qPM3"
      },
      "outputs": [],
      "source": [
        "test_loss, test_acc = model.evaluate(test_dataset)\n",
        "\n",
        "print('Test Loss:', test_loss)\n",
        "print('Test Accuracy:', test_acc)"
      ]
    },
    {
      "cell_type": "code",
      "execution_count": null,
      "metadata": {
        "id": "ykUKnAoqbycW"
      },
      "outputs": [],
      "source": [
        "# predict on a sample text without padding.\n",
        "\n",
        "sample_text = ('The movie was not good. The animation and the graphics '\n",
        "               'were terrible. I would not recommend this movie.')\n",
        "predictions = model.predict(np.array([sample_text]))\n",
        "print(predictions)"
      ]
    },
    {
      "cell_type": "code",
      "execution_count": null,
      "metadata": {
        "id": "_YYub0EDtwCu"
      },
      "outputs": [],
      "source": [
        "plt.figure(figsize=(16, 6))\n",
        "plt.subplot(1, 2, 1)\n",
        "plot_graphs(history, 'accuracy')\n",
        "plt.subplot(1, 2, 2)\n",
        "plot_graphs(history, 'loss')"
      ]
    },
    {
      "cell_type": "markdown",
      "metadata": {
        "id": "9xvpE3BaGw_V"
      },
      "source": [
        "Check out other existing recurrent layers such as [GRU layers](https://www.tensorflow.org/api_docs/python/tf/keras/layers/GRU).\n",
        "\n",
        "If you're interested in building custom RNNs, see the [Keras RNN Guide](https://www.tensorflow.org/guide/keras/rnn).\n"
      ]
    }
  ],
  "metadata": {
    "accelerator": "GPU",
    "colab": {
      "collapsed_sections": [],
      "name": "text_classification_rnn.ipynb",
      "provenance": [],
      "toc_visible": true
    },
    "kernelspec": {
      "display_name": "Python 3",
      "name": "python3"
    },
    "language_info": {
      "codemirror_mode": {
        "name": "ipython",
        "version": 3
      },
      "file_extension": ".py",
      "mimetype": "text/x-python",
      "name": "python",
      "nbconvert_exporter": "python",
      "pygments_lexer": "ipython3",
      "version": "3.11.1"
    }
  },
  "nbformat": 4,
  "nbformat_minor": 0
}
